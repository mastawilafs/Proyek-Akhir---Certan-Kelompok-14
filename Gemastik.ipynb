{
 "cells": [
  {
   "cell_type": "code",
   "execution_count": 17,
   "id": "0afb1ec8",
   "metadata": {},
   "outputs": [],
   "source": [
    "import pandas as pd"
   ]
  },
  {
   "cell_type": "code",
   "execution_count": 19,
   "id": "65df52c1",
   "metadata": {},
   "outputs": [],
   "source": [
    "df_2013_2015 = pd.read_excel('2013-2015.xlsx',\n",
    "                        header = [0, 1, 2])"
   ]
  },
  {
   "cell_type": "code",
   "execution_count": 20,
   "id": "d171287a",
   "metadata": {},
   "outputs": [],
   "source": [
    "df_2010_2012 = pd.read_excel('2010-2012.xlsx',\n",
    "                        header = [0, 1, 2])"
   ]
  },
  {
   "cell_type": "code",
   "execution_count": 21,
   "id": "9a4c8a9b",
   "metadata": {},
   "outputs": [],
   "source": [
    "df_2007_2009 = pd.read_excel('2007-2009.xlsx',\n",
    "                        header = [0, 1, 2])"
   ]
  },
  {
   "cell_type": "code",
   "execution_count": 22,
   "id": "7d5aeee5",
   "metadata": {},
   "outputs": [],
   "source": [
    "df_2004_2006 = pd.read_excel('2004-2006.xlsx',\n",
    "                        header = [0, 1, 2])"
   ]
  },
  {
   "cell_type": "code",
   "execution_count": 23,
   "id": "d67300b1",
   "metadata": {},
   "outputs": [],
   "source": [
    "df_2001_2003 = pd.read_excel('2001-2003.xlsx',\n",
    "                        header = [0, 1, 2])"
   ]
  },
  {
   "cell_type": "code",
   "execution_count": 30,
   "id": "d72474c5",
   "metadata": {},
   "outputs": [],
   "source": [
    "df_1998_2000 = pd.read_excel('1998-2000.xlsx',\n",
    "                        header = [0, 1, 2])"
   ]
  },
  {
   "cell_type": "code",
   "execution_count": 28,
   "id": "b643640f",
   "metadata": {},
   "outputs": [],
   "source": [
    "df_1995_1997 = pd.read_excel('1995-1997.xlsx',\n",
    "                        header = [0, 1, 2])"
   ]
  },
  {
   "cell_type": "code",
   "execution_count": 29,
   "id": "93033923",
   "metadata": {},
   "outputs": [],
   "source": [
    "df_1993_1994 = pd.read_excel('1993-1994.xlsx',\n",
    "                        header = [0, 1, 2])"
   ]
  },
  {
   "cell_type": "code",
   "execution_count": 32,
   "id": "ec627881",
   "metadata": {},
   "outputs": [
    {
     "data": {
      "text/html": [
       "<div>\n",
       "<style scoped>\n",
       "    .dataframe tbody tr th:only-of-type {\n",
       "        vertical-align: middle;\n",
       "    }\n",
       "\n",
       "    .dataframe tbody tr th {\n",
       "        vertical-align: top;\n",
       "    }\n",
       "\n",
       "    .dataframe thead tr th {\n",
       "        text-align: left;\n",
       "    }\n",
       "</style>\n",
       "<table border=\"1\" class=\"dataframe\">\n",
       "  <thead>\n",
       "    <tr>\n",
       "      <th></th>\n",
       "      <th>Provinsi</th>\n",
       "      <th colspan=\"14\" halign=\"left\">Produktivitas (Kuintal/Hektar)</th>\n",
       "    </tr>\n",
       "    <tr>\n",
       "      <th></th>\n",
       "      <th>Unnamed: 0_level_1</th>\n",
       "      <th colspan=\"2\" halign=\"left\">Padi</th>\n",
       "      <th colspan=\"2\" halign=\"left\">Jagung</th>\n",
       "      <th colspan=\"2\" halign=\"left\">Kedelai</th>\n",
       "      <th colspan=\"2\" halign=\"left\">Kacang tanah</th>\n",
       "      <th colspan=\"2\" halign=\"left\">Kacang Hijau</th>\n",
       "      <th colspan=\"2\" halign=\"left\">Ubi Kayu</th>\n",
       "      <th colspan=\"2\" halign=\"left\">Ubi Jalar</th>\n",
       "    </tr>\n",
       "    <tr>\n",
       "      <th></th>\n",
       "      <th>Unnamed: 0_level_2</th>\n",
       "      <th>1993</th>\n",
       "      <th>1994</th>\n",
       "      <th>1993</th>\n",
       "      <th>1994</th>\n",
       "      <th>1993</th>\n",
       "      <th>1994</th>\n",
       "      <th>1993</th>\n",
       "      <th>1994</th>\n",
       "      <th>1993</th>\n",
       "      <th>1994</th>\n",
       "      <th>1993</th>\n",
       "      <th>1994</th>\n",
       "      <th>1993</th>\n",
       "      <th>1994</th>\n",
       "    </tr>\n",
       "  </thead>\n",
       "  <tbody>\n",
       "    <tr>\n",
       "      <th>0</th>\n",
       "      <td>ACEH</td>\n",
       "      <td>40.17</td>\n",
       "      <td>40.41</td>\n",
       "      <td>21.70</td>\n",
       "      <td>21.81</td>\n",
       "      <td>11.12</td>\n",
       "      <td>11.36</td>\n",
       "      <td>11.37</td>\n",
       "      <td>12.34</td>\n",
       "      <td>-</td>\n",
       "      <td>-</td>\n",
       "      <td>124.00</td>\n",
       "      <td>124.00</td>\n",
       "      <td>91.00</td>\n",
       "      <td>102.00</td>\n",
       "    </tr>\n",
       "    <tr>\n",
       "      <th>1</th>\n",
       "      <td>SUMATERA UTARA</td>\n",
       "      <td>38.67</td>\n",
       "      <td>38.86</td>\n",
       "      <td>22.23</td>\n",
       "      <td>22.13</td>\n",
       "      <td>10.27</td>\n",
       "      <td>10.14</td>\n",
       "      <td>10.08</td>\n",
       "      <td>10.21</td>\n",
       "      <td>-</td>\n",
       "      <td>-</td>\n",
       "      <td>120.00</td>\n",
       "      <td>120.00</td>\n",
       "      <td>89.00</td>\n",
       "      <td>89.00</td>\n",
       "    </tr>\n",
       "    <tr>\n",
       "      <th>2</th>\n",
       "      <td>SUMATERA BARAT</td>\n",
       "      <td>45.80</td>\n",
       "      <td>45.66</td>\n",
       "      <td>22.00</td>\n",
       "      <td>22.86</td>\n",
       "      <td>9.65</td>\n",
       "      <td>9.56</td>\n",
       "      <td>9.54</td>\n",
       "      <td>9.87</td>\n",
       "      <td>-</td>\n",
       "      <td>-</td>\n",
       "      <td>123.00</td>\n",
       "      <td>121.00</td>\n",
       "      <td>98.00</td>\n",
       "      <td>112.00</td>\n",
       "    </tr>\n",
       "    <tr>\n",
       "      <th>3</th>\n",
       "      <td>RIAU</td>\n",
       "      <td>29.86</td>\n",
       "      <td>30.47</td>\n",
       "      <td>21.23</td>\n",
       "      <td>21.49</td>\n",
       "      <td>10.06</td>\n",
       "      <td>10.15</td>\n",
       "      <td>10.39</td>\n",
       "      <td>9.06</td>\n",
       "      <td>-</td>\n",
       "      <td>-</td>\n",
       "      <td>112.00</td>\n",
       "      <td>101.00</td>\n",
       "      <td>70.00</td>\n",
       "      <td>72.00</td>\n",
       "    </tr>\n",
       "    <tr>\n",
       "      <th>4</th>\n",
       "      <td>JAMBI</td>\n",
       "      <td>30.46</td>\n",
       "      <td>30.69</td>\n",
       "      <td>15.42</td>\n",
       "      <td>14.49</td>\n",
       "      <td>8.96</td>\n",
       "      <td>8.02</td>\n",
       "      <td>10.88</td>\n",
       "      <td>8.13</td>\n",
       "      <td>-</td>\n",
       "      <td>-</td>\n",
       "      <td>102.00</td>\n",
       "      <td>97.00</td>\n",
       "      <td>80.00</td>\n",
       "      <td>80.00</td>\n",
       "    </tr>\n",
       "  </tbody>\n",
       "</table>\n",
       "</div>"
      ],
      "text/plain": [
       "            Provinsi Produktivitas (Kuintal/Hektar)                       \\\n",
       "  Unnamed: 0_level_1                           Padi        Jagung          \n",
       "  Unnamed: 0_level_2                           1993   1994   1993   1994   \n",
       "0               ACEH                          40.17  40.41  21.70  21.81   \n",
       "1     SUMATERA UTARA                          38.67  38.86  22.23  22.13   \n",
       "2     SUMATERA BARAT                          45.80  45.66  22.00  22.86   \n",
       "3               RIAU                          29.86  30.47  21.23  21.49   \n",
       "4              JAMBI                          30.46  30.69  15.42  14.49   \n",
       "\n",
       "                                                                         \\\n",
       "  Kedelai        Kacang tanah        Kacang Hijau      Ubi Kayu           \n",
       "     1993   1994         1993   1994         1993 1994     1993    1994   \n",
       "0   11.12  11.36        11.37  12.34            -    -   124.00  124.00   \n",
       "1   10.27  10.14        10.08  10.21            -    -   120.00  120.00   \n",
       "2    9.65   9.56         9.54   9.87            -    -   123.00  121.00   \n",
       "3   10.06  10.15        10.39   9.06            -    -   112.00  101.00   \n",
       "4    8.96   8.02        10.88   8.13            -    -   102.00   97.00   \n",
       "\n",
       "                     \n",
       "  Ubi Jalar          \n",
       "       1993    1994  \n",
       "0     91.00  102.00  \n",
       "1     89.00   89.00  \n",
       "2     98.00  112.00  \n",
       "3     70.00   72.00  \n",
       "4     80.00   80.00  "
      ]
     },
     "metadata": {},
     "output_type": "display_data"
    }
   ],
   "source": [
    "display(df_1993_1994.head())"
   ]
  },
  {
   "cell_type": "code",
   "execution_count": 37,
   "id": "11f99b38",
   "metadata": {},
   "outputs": [
    {
     "ename": "TypeError",
     "evalue": "'function' object is not subscriptable",
     "output_type": "error",
     "traceback": [
      "\u001b[1;31m---------------------------------------------------------------------------\u001b[0m",
      "\u001b[1;31mTypeError\u001b[0m                                 Traceback (most recent call last)",
      "Cell \u001b[1;32mIn [37], line 2\u001b[0m\n\u001b[0;32m      1\u001b[0m plt\u001b[38;5;241m.\u001b[39mfigure(figsize\u001b[38;5;241m=\u001b[39m(\u001b[38;5;241m15\u001b[39m,\u001b[38;5;241m10\u001b[39m))\n\u001b[1;32m----> 2\u001b[0m plt\u001b[38;5;241m.\u001b[39mplot(\u001b[43mdisplay\u001b[49m\u001b[43m[\u001b[49m\u001b[38;5;124;43m'\u001b[39;49m\u001b[38;5;124;43mdf\u001b[39;49m\u001b[38;5;124;43m'\u001b[39;49m\u001b[43m]\u001b[49m, color\u001b[38;5;241m=\u001b[39m\u001b[38;5;124m'\u001b[39m\u001b[38;5;124mblue\u001b[39m\u001b[38;5;124m'\u001b[39m)\n\u001b[0;32m      3\u001b[0m plt\u001b[38;5;241m.\u001b[39mshow()\n",
      "\u001b[1;31mTypeError\u001b[0m: 'function' object is not subscriptable"
     ]
    },
    {
     "data": {
      "text/plain": [
       "<Figure size 1500x1000 with 0 Axes>"
      ]
     },
     "metadata": {},
     "output_type": "display_data"
    }
   ],
   "source": [
    "plt.figure(figsize=(15,10))\n",
    "plt.plot(display['df'], color='blue')\n",
    "plt.show()"
   ]
  },
  {
   "cell_type": "code",
   "execution_count": null,
   "id": "a4ba7903",
   "metadata": {},
   "outputs": [],
   "source": []
  }
 ],
 "metadata": {
  "kernelspec": {
   "display_name": "Python 3 (ipykernel)",
   "language": "python",
   "name": "python3"
  },
  "language_info": {
   "codemirror_mode": {
    "name": "ipython",
    "version": 3
   },
   "file_extension": ".py",
   "mimetype": "text/x-python",
   "name": "python",
   "nbconvert_exporter": "python",
   "pygments_lexer": "ipython3",
   "version": "3.9.13"
  }
 },
 "nbformat": 4,
 "nbformat_minor": 5
}
