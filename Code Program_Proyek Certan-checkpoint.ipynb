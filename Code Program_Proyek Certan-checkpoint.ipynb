{
 "cells": [
  {
   "cell_type": "markdown",
   "id": "246bfdaf",
   "metadata": {},
   "source": [
    "Time Series Forecasting with Recurrent Neural Network (RNN) by Haydar Özler and Tankut Tekeli\n",
    "\n",
    "Abstract Purpose: to practice solving a timeseries problem by using Recurrent Neural Network\n",
    "\n",
    "Data: Bike Sharing in Washington D.C. Dataset\n",
    "\n",
    "Applied Tools & Methods: TimeSeriesGenerator, SimpleRNN\n",
    "\n",
    "Result: Around %80 correctness (calculated as 1-mae/mean)\n",
    "\n",
    "Further Studies: More advanced sequential methods like LSTM and GRU can be applied.\n",
    "\n",
    "Explanation of the Study We have created a model to predict how many bicycles will be rented in the following days. The features used like weather, temperature, working day are explained in the following sections in detail.\n",
    "\n",
    "We have used SimpleRNN method in Keras library. It is one of the sequential models. The others are LSTM and GRU.\n",
    "\n",
    "Sequential models have 3 dimension (sample size, time steps, features). Preparing 3D input is another challenge. Instead of trying to create a 3D array, we use TimeSeriesGenerator class which brings some other advantages like setting the batch size.\n",
    "\n",
    "We skipped feature engineering and visualization parts because main purpose was to practice a sequential neural network. It is possible to have better achivements by applying these methods and then create a predictive model.\n",
    "\n",
    "Data is 2 years daily data. Number of samples is 731. We have splitted it into 631, 50, 50 as train, test and hold-out data respectively.\n",
    "\n",
    "We have measured the performance of the model with ( 1 - (mean average error) / (mean) ) and we have reached values around %80.\n",
    "\n",
    "There are so many further studies: More feature engineering for better accuracy and trying other sequential models."
   ]
  },
  {
   "cell_type": "code",
   "execution_count": 1,
   "id": "8615e5f3",
   "metadata": {},
   "outputs": [],
   "source": [
    "import pandas as pd\n",
    "import matplotlib.pyplot as plt\n",
    "from numpy import array\n",
    "from numpy import hstack\n",
    "from tensorflow.keras.models import Sequential\n",
    "from tensorflow.keras.layers import Dense\n",
    "from tensorflow.keras.layers import LSTM\n",
    "from tensorflow.keras.layers import RNN, SimpleRNN\n",
    "from tensorflow.keras.preprocessing.sequence import TimeseriesGenerator\n",
    "from tensorflow.keras.layers import Dropout\n",
    "from tensorflow.keras.optimizers import Adam\n",
    "from tensorflow.keras.layers import Activation\n",
    "from tensorflow.keras.callbacks import LambdaCallback\n",
    "from sklearn.preprocessing import MinMaxScaler"
   ]
  },
  {
   "cell_type": "code",
   "execution_count": 2,
   "id": "c961e69f",
   "metadata": {},
   "outputs": [],
   "source": [
    "import os\n",
    "\n",
    "dataset = pd.read_csv('./day.csv')"
   ]
  },
  {
   "cell_type": "code",
   "execution_count": 3,
   "id": "9e792ffe",
   "metadata": {},
   "outputs": [
    {
     "data": {
      "text/html": [
       "<div>\n",
       "<style scoped>\n",
       "    .dataframe tbody tr th:only-of-type {\n",
       "        vertical-align: middle;\n",
       "    }\n",
       "\n",
       "    .dataframe tbody tr th {\n",
       "        vertical-align: top;\n",
       "    }\n",
       "\n",
       "    .dataframe thead th {\n",
       "        text-align: right;\n",
       "    }\n",
       "</style>\n",
       "<table border=\"1\" class=\"dataframe\">\n",
       "  <thead>\n",
       "    <tr style=\"text-align: right;\">\n",
       "      <th></th>\n",
       "      <th>instant</th>\n",
       "      <th>dteday</th>\n",
       "      <th>season</th>\n",
       "      <th>yr</th>\n",
       "      <th>mnth</th>\n",
       "      <th>holiday</th>\n",
       "      <th>weekday</th>\n",
       "      <th>workingday</th>\n",
       "      <th>weathersit</th>\n",
       "      <th>temp</th>\n",
       "      <th>atemp</th>\n",
       "      <th>hum</th>\n",
       "      <th>windspeed</th>\n",
       "      <th>casual</th>\n",
       "      <th>registered</th>\n",
       "      <th>cnt</th>\n",
       "    </tr>\n",
       "  </thead>\n",
       "  <tbody>\n",
       "    <tr>\n",
       "      <th>0</th>\n",
       "      <td>1</td>\n",
       "      <td>2011-01-01</td>\n",
       "      <td>1</td>\n",
       "      <td>0</td>\n",
       "      <td>1</td>\n",
       "      <td>0</td>\n",
       "      <td>6</td>\n",
       "      <td>0</td>\n",
       "      <td>2</td>\n",
       "      <td>0.344167</td>\n",
       "      <td>0.363625</td>\n",
       "      <td>0.805833</td>\n",
       "      <td>0.160446</td>\n",
       "      <td>331</td>\n",
       "      <td>654</td>\n",
       "      <td>985</td>\n",
       "    </tr>\n",
       "    <tr>\n",
       "      <th>1</th>\n",
       "      <td>2</td>\n",
       "      <td>2011-01-02</td>\n",
       "      <td>1</td>\n",
       "      <td>0</td>\n",
       "      <td>1</td>\n",
       "      <td>0</td>\n",
       "      <td>0</td>\n",
       "      <td>0</td>\n",
       "      <td>2</td>\n",
       "      <td>0.363478</td>\n",
       "      <td>0.353739</td>\n",
       "      <td>0.696087</td>\n",
       "      <td>0.248539</td>\n",
       "      <td>131</td>\n",
       "      <td>670</td>\n",
       "      <td>801</td>\n",
       "    </tr>\n",
       "    <tr>\n",
       "      <th>2</th>\n",
       "      <td>3</td>\n",
       "      <td>2011-01-03</td>\n",
       "      <td>1</td>\n",
       "      <td>0</td>\n",
       "      <td>1</td>\n",
       "      <td>0</td>\n",
       "      <td>1</td>\n",
       "      <td>1</td>\n",
       "      <td>1</td>\n",
       "      <td>0.196364</td>\n",
       "      <td>0.189405</td>\n",
       "      <td>0.437273</td>\n",
       "      <td>0.248309</td>\n",
       "      <td>120</td>\n",
       "      <td>1229</td>\n",
       "      <td>1349</td>\n",
       "    </tr>\n",
       "    <tr>\n",
       "      <th>3</th>\n",
       "      <td>4</td>\n",
       "      <td>2011-01-04</td>\n",
       "      <td>1</td>\n",
       "      <td>0</td>\n",
       "      <td>1</td>\n",
       "      <td>0</td>\n",
       "      <td>2</td>\n",
       "      <td>1</td>\n",
       "      <td>1</td>\n",
       "      <td>0.200000</td>\n",
       "      <td>0.212122</td>\n",
       "      <td>0.590435</td>\n",
       "      <td>0.160296</td>\n",
       "      <td>108</td>\n",
       "      <td>1454</td>\n",
       "      <td>1562</td>\n",
       "    </tr>\n",
       "    <tr>\n",
       "      <th>4</th>\n",
       "      <td>5</td>\n",
       "      <td>2011-01-05</td>\n",
       "      <td>1</td>\n",
       "      <td>0</td>\n",
       "      <td>1</td>\n",
       "      <td>0</td>\n",
       "      <td>3</td>\n",
       "      <td>1</td>\n",
       "      <td>1</td>\n",
       "      <td>0.226957</td>\n",
       "      <td>0.229270</td>\n",
       "      <td>0.436957</td>\n",
       "      <td>0.186900</td>\n",
       "      <td>82</td>\n",
       "      <td>1518</td>\n",
       "      <td>1600</td>\n",
       "    </tr>\n",
       "  </tbody>\n",
       "</table>\n",
       "</div>"
      ],
      "text/plain": [
       "   instant      dteday  season  yr  mnth  holiday  weekday  workingday  \\\n",
       "0        1  2011-01-01       1   0     1        0        6           0   \n",
       "1        2  2011-01-02       1   0     1        0        0           0   \n",
       "2        3  2011-01-03       1   0     1        0        1           1   \n",
       "3        4  2011-01-04       1   0     1        0        2           1   \n",
       "4        5  2011-01-05       1   0     1        0        3           1   \n",
       "\n",
       "   weathersit      temp     atemp       hum  windspeed  casual  registered  \\\n",
       "0           2  0.344167  0.363625  0.805833   0.160446     331         654   \n",
       "1           2  0.363478  0.353739  0.696087   0.248539     131         670   \n",
       "2           1  0.196364  0.189405  0.437273   0.248309     120        1229   \n",
       "3           1  0.200000  0.212122  0.590435   0.160296     108        1454   \n",
       "4           1  0.226957  0.229270  0.436957   0.186900      82        1518   \n",
       "\n",
       "    cnt  \n",
       "0   985  \n",
       "1   801  \n",
       "2  1349  \n",
       "3  1562  \n",
       "4  1600  "
      ]
     },
     "execution_count": 3,
     "metadata": {},
     "output_type": "execute_result"
    }
   ],
   "source": [
    "dataset.head()"
   ]
  },
  {
   "cell_type": "markdown",
   "id": "39936023",
   "metadata": {},
   "source": [
    "Daily data has the following fields. Thanks to the people who prepared it because it is very well processed data with even scaled features.\n",
    "\n",
    "instant: Record index\n",
    "\n",
    "dteday: Date\n",
    "\n",
    "season: Season (1:springer, 2:summer, 3:fall, 4:winter)\n",
    "\n",
    "yr: Year (0: 2011, 1:2012)\n",
    "\n",
    "mnth: Month (1 to 12)\n",
    "\n",
    "holiday: weather day is holiday or not (extracted from Holiday Schedule)\n",
    "\n",
    "weekday: Day of the week\n",
    "\n",
    "workingday: If day is neither weekend nor holiday is 1, otherwise is 0.\n",
    "\n",
    "weathersit: (extracted from Freemeteo) 1: Clear, Few clouds, Partly cloudy, Partly cloudy 2: Mist + Cloudy, Mist + Broken clouds, Mist + Few clouds, Mist 3: Light\n",
    "                \n",
    "            Snow, Light Rain + Thunderstorm + Scattered clouds, Light Rain + Scattered clouds 4: Heavy Rain + Ice Pallets + Thunderstorm + Mist, Snow + Fog\n",
    "\n",
    "temp: Normalized temperature in Celsius. The values are derived via (t-t_min)/(t_max-t_min), t_min=-8, t_max=+39 (only in hourly scale)\n",
    "\n",
    "atemp: Normalized feeling temperature in Celsius. The values are derived via (t-t_min)/(t_max-t_min), t_min=-16, t_max=+50 (only in hourly scale)\n",
    "\n",
    "hum: Normalized humidity. The values are divided to 100 (max)\n",
    "\n",
    "windspeed: Normalized wind speed. The values are divided to 67 (max)\n",
    "\n",
    "casual: count of casual users\n",
    "\n",
    "registered: count of registered users\n",
    "\n",
    "cnt: count of total rental bikes including both casual and registered"
   ]
  },
  {
   "cell_type": "code",
   "execution_count": 4,
   "id": "c3e0febb",
   "metadata": {},
   "outputs": [
    {
     "data": {
      "image/png": "[encoded data removed]",
      "text/plain": [
       "<Figure size 1500x1000 with 1 Axes>"
      ]
     },
     "metadata": {},
     "output_type": "display_data"
    }
   ],
   "source": [
    "plt.figure(figsize=(15,10))\n",
    "plt.plot(dataset['cnt'], color='blue')\n",
    "plt.show()"
   ]
  },
  {
   "cell_type": "markdown",
   "id": "fc4ec405",
   "metadata": {},
   "source": [
    "Data exploration and Manipulation\n",
    "Number of bike sharing is 22 only at 2012-10-29 and such a low value deserves a special attention.\n",
    "\n",
    "There was a hurricane at Washington at that day.\n",
    "\n",
    "Since it is such an extraordinary day, hurricane and the following days data will be replaced by the average of that month"
   ]
  },
  {
   "cell_type": "code",
   "execution_count": 5,
   "id": "a09c2fe8",
   "metadata": {},
   "outputs": [
    {
     "name": "stdout",
     "output_type": "stream",
     "text": [
      "6414.225806451613\n"
     ]
    }
   ],
   "source": [
    "temp = dataset[dataset.yr == 1]\n",
    "temp = temp[temp.mnth == 10]\n",
    "print(temp.cnt.mean())"
   ]
  },
  {
   "cell_type": "code",
   "execution_count": 6,
   "id": "d4264ea2",
   "metadata": {},
   "outputs": [
    {
     "data": {
      "text/html": [
       "<div>\n",
       "<style scoped>\n",
       "    .dataframe tbody tr th:only-of-type {\n",
       "        vertical-align: middle;\n",
       "    }\n",
       "\n",
       "    .dataframe tbody tr th {\n",
       "        vertical-align: top;\n",
       "    }\n",
       "\n",
       "    .dataframe thead th {\n",
       "        text-align: right;\n",
       "    }\n",
       "</style>\n",
       "<table border=\"1\" class=\"dataframe\">\n",
       "  <thead>\n",
       "    <tr style=\"text-align: right;\">\n",
       "      <th></th>\n",
       "      <th>instant</th>\n",
       "      <th>dteday</th>\n",
       "      <th>season</th>\n",
       "      <th>yr</th>\n",
       "      <th>mnth</th>\n",
       "      <th>holiday</th>\n",
       "      <th>weekday</th>\n",
       "      <th>workingday</th>\n",
       "      <th>weathersit</th>\n",
       "      <th>temp</th>\n",
       "      <th>atemp</th>\n",
       "      <th>hum</th>\n",
       "      <th>windspeed</th>\n",
       "      <th>casual</th>\n",
       "      <th>registered</th>\n",
       "      <th>cnt</th>\n",
       "    </tr>\n",
       "  </thead>\n",
       "  <tbody>\n",
       "    <tr>\n",
       "      <th>639</th>\n",
       "      <td>640</td>\n",
       "      <td>2012-10-01</td>\n",
       "      <td>4</td>\n",
       "      <td>1</td>\n",
       "      <td>10</td>\n",
       "      <td>0</td>\n",
       "      <td>1</td>\n",
       "      <td>1</td>\n",
       "      <td>2</td>\n",
       "      <td>0.520833</td>\n",
       "      <td>0.512000</td>\n",
       "      <td>0.649167</td>\n",
       "      <td>0.090804</td>\n",
       "      <td>763</td>\n",
       "      <td>6015</td>\n",
       "      <td>6778</td>\n",
       "    </tr>\n",
       "    <tr>\n",
       "      <th>640</th>\n",
       "      <td>641</td>\n",
       "      <td>2012-10-02</td>\n",
       "      <td>4</td>\n",
       "      <td>1</td>\n",
       "      <td>10</td>\n",
       "      <td>0</td>\n",
       "      <td>2</td>\n",
       "      <td>1</td>\n",
       "      <td>3</td>\n",
       "      <td>0.590833</td>\n",
       "      <td>0.542333</td>\n",
       "      <td>0.871667</td>\n",
       "      <td>0.104475</td>\n",
       "      <td>315</td>\n",
       "      <td>4324</td>\n",
       "      <td>4639</td>\n",
       "    </tr>\n",
       "    <tr>\n",
       "      <th>641</th>\n",
       "      <td>642</td>\n",
       "      <td>2012-10-03</td>\n",
       "      <td>4</td>\n",
       "      <td>1</td>\n",
       "      <td>10</td>\n",
       "      <td>0</td>\n",
       "      <td>3</td>\n",
       "      <td>1</td>\n",
       "      <td>2</td>\n",
       "      <td>0.657500</td>\n",
       "      <td>0.599133</td>\n",
       "      <td>0.793750</td>\n",
       "      <td>0.066546</td>\n",
       "      <td>728</td>\n",
       "      <td>6844</td>\n",
       "      <td>7572</td>\n",
       "    </tr>\n",
       "    <tr>\n",
       "      <th>642</th>\n",
       "      <td>643</td>\n",
       "      <td>2012-10-04</td>\n",
       "      <td>4</td>\n",
       "      <td>1</td>\n",
       "      <td>10</td>\n",
       "      <td>0</td>\n",
       "      <td>4</td>\n",
       "      <td>1</td>\n",
       "      <td>2</td>\n",
       "      <td>0.657500</td>\n",
       "      <td>0.607975</td>\n",
       "      <td>0.722917</td>\n",
       "      <td>0.117546</td>\n",
       "      <td>891</td>\n",
       "      <td>6437</td>\n",
       "      <td>7328</td>\n",
       "    </tr>\n",
       "    <tr>\n",
       "      <th>643</th>\n",
       "      <td>644</td>\n",
       "      <td>2012-10-05</td>\n",
       "      <td>4</td>\n",
       "      <td>1</td>\n",
       "      <td>10</td>\n",
       "      <td>0</td>\n",
       "      <td>5</td>\n",
       "      <td>1</td>\n",
       "      <td>1</td>\n",
       "      <td>0.615000</td>\n",
       "      <td>0.580187</td>\n",
       "      <td>0.627500</td>\n",
       "      <td>0.106350</td>\n",
       "      <td>1516</td>\n",
       "      <td>6640</td>\n",
       "      <td>8156</td>\n",
       "    </tr>\n",
       "  </tbody>\n",
       "</table>\n",
       "</div>"
      ],
      "text/plain": [
       "     instant      dteday  season  yr  mnth  holiday  weekday  workingday  \\\n",
       "639      640  2012-10-01       4   1    10        0        1           1   \n",
       "640      641  2012-10-02       4   1    10        0        2           1   \n",
       "641      642  2012-10-03       4   1    10        0        3           1   \n",
       "642      643  2012-10-04       4   1    10        0        4           1   \n",
       "643      644  2012-10-05       4   1    10        0        5           1   \n",
       "\n",
       "     weathersit      temp     atemp       hum  windspeed  casual  registered  \\\n",
       "639           2  0.520833  0.512000  0.649167   0.090804     763        6015   \n",
       "640           3  0.590833  0.542333  0.871667   0.104475     315        4324   \n",
       "641           2  0.657500  0.599133  0.793750   0.066546     728        6844   \n",
       "642           2  0.657500  0.607975  0.722917   0.117546     891        6437   \n",
       "643           1  0.615000  0.580187  0.627500   0.106350    1516        6640   \n",
       "\n",
       "      cnt  \n",
       "639  6778  \n",
       "640  4639  \n",
       "641  7572  \n",
       "642  7328  \n",
       "643  8156  "
      ]
     },
     "execution_count": 6,
     "metadata": {},
     "output_type": "execute_result"
    }
   ],
   "source": [
    "temp.head()"
   ]
  },
  {
   "cell_type": "code",
   "execution_count": 7,
   "id": "5833e8d7",
   "metadata": {},
   "outputs": [
    {
     "name": "stdout",
     "output_type": "stream",
     "text": [
      "22 1096\n"
     ]
    }
   ],
   "source": [
    "print(dataset['cnt'][667], dataset['cnt'][668])"
   ]
  },
  {
   "cell_type": "code",
   "execution_count": 8,
   "id": "945f3e01",
   "metadata": {},
   "outputs": [
    {
     "name": "stderr",
     "output_type": "stream",
     "text": [
      "C:\\Users\\User\\AppData\\Local\\Temp\\ipykernel_11908\\3082901652.py:1: SettingWithCopyWarning: \n",
      "A value is trying to be set on a copy of a slice from a DataFrame\n",
      "\n",
      "See the caveats in the documentation: https://pandas.pydata.org/pandas-docs/stable/user_guide/indexing.html#returning-a-view-versus-a-copy\n",
      "  dataset['cnt'][667] = 6414\n",
      "C:\\Users\\User\\AppData\\Local\\Temp\\ipykernel_11908\\3082901652.py:2: SettingWithCopyWarning: \n",
      "A value is trying to be set on a copy of a slice from a DataFrame\n",
      "\n",
      "See the caveats in the documentation: https://pandas.pydata.org/pandas-docs/stable/user_guide/indexing.html#returning-a-view-versus-a-copy\n",
      "  dataset['cnt'][668] = 6414\n"
     ]
    }
   ],
   "source": [
    "dataset['cnt'][667] = 6414\n",
    "dataset['cnt'][668] = 6414"
   ]
  },
  {
   "cell_type": "markdown",
   "id": "df9db8b2",
   "metadata": {},
   "source": [
    "We should apply one hot encoding for categorical features. In our case weekday, weathersit and mnth features are one hot encoded."
   ]
  },
  {
   "cell_type": "code",
   "execution_count": 9,
   "id": "1c063b76",
   "metadata": {},
   "outputs": [],
   "source": [
    "one_hot = pd.get_dummies(dataset['weekday'], prefix='weekday')\n",
    "dataset = dataset.join(one_hot)"
   ]
  },
  {
   "cell_type": "code",
   "execution_count": 10,
   "id": "eccde80e",
   "metadata": {},
   "outputs": [],
   "source": [
    "one_hot = pd.get_dummies(dataset['weathersit'], prefix='weathersit')\n",
    "dataset = dataset.join(one_hot)"
   ]
  },
  {
   "cell_type": "code",
   "execution_count": 11,
   "id": "2a03cb4e",
   "metadata": {},
   "outputs": [],
   "source": [
    "one_hot = pd.get_dummies(dataset['mnth'], prefix='mnth')\n",
    "dataset = dataset.join(one_hot)"
   ]
  },
  {
   "cell_type": "markdown",
   "id": "ddb9d94c",
   "metadata": {},
   "source": [
    "Thanks to the guys prepared the original data, they scaled all features. That is why we have to apply it only for our value Y which is cnt. It is also a discussion whether Y value should be scaled or not in sucha model but we did."
   ]
  },
  {
   "cell_type": "code",
   "execution_count": 12,
   "id": "be1c4c49",
   "metadata": {},
   "outputs": [],
   "source": [
    "scaler = MinMaxScaler(feature_range=(0, 1))\n",
    "scaled = scaler.fit_transform(array(dataset['cnt']).reshape(len(dataset['cnt']), 1))\n",
    "series = pd.DataFrame(scaled)\n",
    "series.columns = ['cntscl']"
   ]
  },
  {
   "cell_type": "code",
   "execution_count": 13,
   "id": "647fa701",
   "metadata": {},
   "outputs": [],
   "source": [
    "dataset = pd.merge(dataset, series, left_index=True, right_index=True)"
   ]
  },
  {
   "cell_type": "code",
   "execution_count": 14,
   "id": "bd175f98",
   "metadata": {},
   "outputs": [
    {
     "data": {
      "text/html": [
       "<div>\n",
       "<style scoped>\n",
       "    .dataframe tbody tr th:only-of-type {\n",
       "        vertical-align: middle;\n",
       "    }\n",
       "\n",
       "    .dataframe tbody tr th {\n",
       "        vertical-align: top;\n",
       "    }\n",
       "\n",
       "    .dataframe thead th {\n",
       "        text-align: right;\n",
       "    }\n",
       "</style>\n",
       "<table border=\"1\" class=\"dataframe\">\n",
       "  <thead>\n",
       "    <tr style=\"text-align: right;\">\n",
       "      <th></th>\n",
       "      <th>instant</th>\n",
       "      <th>dteday</th>\n",
       "      <th>season</th>\n",
       "      <th>yr</th>\n",
       "      <th>mnth</th>\n",
       "      <th>holiday</th>\n",
       "      <th>weekday</th>\n",
       "      <th>workingday</th>\n",
       "      <th>weathersit</th>\n",
       "      <th>temp</th>\n",
       "      <th>...</th>\n",
       "      <th>mnth_4</th>\n",
       "      <th>mnth_5</th>\n",
       "      <th>mnth_6</th>\n",
       "      <th>mnth_7</th>\n",
       "      <th>mnth_8</th>\n",
       "      <th>mnth_9</th>\n",
       "      <th>mnth_10</th>\n",
       "      <th>mnth_11</th>\n",
       "      <th>mnth_12</th>\n",
       "      <th>cntscl</th>\n",
       "    </tr>\n",
       "  </thead>\n",
       "  <tbody>\n",
       "    <tr>\n",
       "      <th>0</th>\n",
       "      <td>1</td>\n",
       "      <td>2011-01-01</td>\n",
       "      <td>1</td>\n",
       "      <td>0</td>\n",
       "      <td>1</td>\n",
       "      <td>0</td>\n",
       "      <td>6</td>\n",
       "      <td>0</td>\n",
       "      <td>2</td>\n",
       "      <td>0.344167</td>\n",
       "      <td>...</td>\n",
       "      <td>0</td>\n",
       "      <td>0</td>\n",
       "      <td>0</td>\n",
       "      <td>0</td>\n",
       "      <td>0</td>\n",
       "      <td>0</td>\n",
       "      <td>0</td>\n",
       "      <td>0</td>\n",
       "      <td>0</td>\n",
       "      <td>0.066884</td>\n",
       "    </tr>\n",
       "    <tr>\n",
       "      <th>1</th>\n",
       "      <td>2</td>\n",
       "      <td>2011-01-02</td>\n",
       "      <td>1</td>\n",
       "      <td>0</td>\n",
       "      <td>1</td>\n",
       "      <td>0</td>\n",
       "      <td>0</td>\n",
       "      <td>0</td>\n",
       "      <td>2</td>\n",
       "      <td>0.363478</td>\n",
       "      <td>...</td>\n",
       "      <td>0</td>\n",
       "      <td>0</td>\n",
       "      <td>0</td>\n",
       "      <td>0</td>\n",
       "      <td>0</td>\n",
       "      <td>0</td>\n",
       "      <td>0</td>\n",
       "      <td>0</td>\n",
       "      <td>0</td>\n",
       "      <td>0.044670</td>\n",
       "    </tr>\n",
       "    <tr>\n",
       "      <th>2</th>\n",
       "      <td>3</td>\n",
       "      <td>2011-01-03</td>\n",
       "      <td>1</td>\n",
       "      <td>0</td>\n",
       "      <td>1</td>\n",
       "      <td>0</td>\n",
       "      <td>1</td>\n",
       "      <td>1</td>\n",
       "      <td>1</td>\n",
       "      <td>0.196364</td>\n",
       "      <td>...</td>\n",
       "      <td>0</td>\n",
       "      <td>0</td>\n",
       "      <td>0</td>\n",
       "      <td>0</td>\n",
       "      <td>0</td>\n",
       "      <td>0</td>\n",
       "      <td>0</td>\n",
       "      <td>0</td>\n",
       "      <td>0</td>\n",
       "      <td>0.110829</td>\n",
       "    </tr>\n",
       "    <tr>\n",
       "      <th>3</th>\n",
       "      <td>4</td>\n",
       "      <td>2011-01-04</td>\n",
       "      <td>1</td>\n",
       "      <td>0</td>\n",
       "      <td>1</td>\n",
       "      <td>0</td>\n",
       "      <td>2</td>\n",
       "      <td>1</td>\n",
       "      <td>1</td>\n",
       "      <td>0.200000</td>\n",
       "      <td>...</td>\n",
       "      <td>0</td>\n",
       "      <td>0</td>\n",
       "      <td>0</td>\n",
       "      <td>0</td>\n",
       "      <td>0</td>\n",
       "      <td>0</td>\n",
       "      <td>0</td>\n",
       "      <td>0</td>\n",
       "      <td>0</td>\n",
       "      <td>0.136545</td>\n",
       "    </tr>\n",
       "    <tr>\n",
       "      <th>4</th>\n",
       "      <td>5</td>\n",
       "      <td>2011-01-05</td>\n",
       "      <td>1</td>\n",
       "      <td>0</td>\n",
       "      <td>1</td>\n",
       "      <td>0</td>\n",
       "      <td>3</td>\n",
       "      <td>1</td>\n",
       "      <td>1</td>\n",
       "      <td>0.226957</td>\n",
       "      <td>...</td>\n",
       "      <td>0</td>\n",
       "      <td>0</td>\n",
       "      <td>0</td>\n",
       "      <td>0</td>\n",
       "      <td>0</td>\n",
       "      <td>0</td>\n",
       "      <td>0</td>\n",
       "      <td>0</td>\n",
       "      <td>0</td>\n",
       "      <td>0.141132</td>\n",
       "    </tr>\n",
       "  </tbody>\n",
       "</table>\n",
       "<p>5 rows × 39 columns</p>\n",
       "</div>"
      ],
      "text/plain": [
       "   instant      dteday  season  yr  mnth  holiday  weekday  workingday  \\\n",
       "0        1  2011-01-01       1   0     1        0        6           0   \n",
       "1        2  2011-01-02       1   0     1        0        0           0   \n",
       "2        3  2011-01-03       1   0     1        0        1           1   \n",
       "3        4  2011-01-04       1   0     1        0        2           1   \n",
       "4        5  2011-01-05       1   0     1        0        3           1   \n",
       "\n",
       "   weathersit      temp  ...  mnth_4  mnth_5  mnth_6  mnth_7  mnth_8  mnth_9  \\\n",
       "0           2  0.344167  ...       0       0       0       0       0       0   \n",
       "1           2  0.363478  ...       0       0       0       0       0       0   \n",
       "2           1  0.196364  ...       0       0       0       0       0       0   \n",
       "3           1  0.200000  ...       0       0       0       0       0       0   \n",
       "4           1  0.226957  ...       0       0       0       0       0       0   \n",
       "\n",
       "   mnth_10  mnth_11  mnth_12    cntscl  \n",
       "0        0        0        0  0.066884  \n",
       "1        0        0        0  0.044670  \n",
       "2        0        0        0  0.110829  \n",
       "3        0        0        0  0.136545  \n",
       "4        0        0        0  0.141132  \n",
       "\n",
       "[5 rows x 39 columns]"
      ]
     },
     "execution_count": 14,
     "metadata": {},
     "output_type": "execute_result"
    }
   ],
   "source": [
    "dataset.head()"
   ]
  },
  {
   "cell_type": "code",
   "execution_count": 15,
   "id": "17ae32ba",
   "metadata": {},
   "outputs": [
    {
     "name": "stdout",
     "output_type": "stream",
     "text": [
      "total, train, test, holdout: 731 631 50 50\n"
     ]
    }
   ],
   "source": [
    "number_of_test_data = 50\n",
    "number_of_holdout_data = 50\n",
    "number_of_training_data = len(dataset) - number_of_holdout_data - number_of_test_data\n",
    "print (\"total, train, test, holdout:\", len(dataset), number_of_training_data, number_of_test_data, number_of_holdout_data)"
   ]
  },
  {
   "cell_type": "code",
   "execution_count": 16,
   "id": "4124a83d",
   "metadata": {},
   "outputs": [],
   "source": [
    "datatrain = dataset[:number_of_training_data]\n",
    "datatest = dataset[-(number_of_test_data+number_of_holdout_data):-number_of_holdout_data]\n",
    "datahold = dataset[-number_of_holdout_data:]"
   ]
  },
  {
   "cell_type": "markdown",
   "id": "53aff13f",
   "metadata": {},
   "source": [
    "The following steps show the way how to prepare input for a sequential model by using TimeSeriesGenerator."
   ]
  },
  {
   "cell_type": "code",
   "execution_count": 17,
   "id": "a5260301",
   "metadata": {},
   "outputs": [],
   "source": [
    "in_seq1 = array(datatrain['holiday'])\n",
    "in_seq2 = array(datatrain['workingday'])\n",
    "in_seq3 = array(datatrain['temp'])\n",
    "in_seq4 = array(datatrain['atemp'])\n",
    "in_seq5 = array(datatrain['hum'])\n",
    "in_seq6 = array(datatrain['windspeed'])\n",
    "in_seq7 = array(datatrain['weekday_0'])\n",
    "in_seq8 = array(datatrain['weekday_1'])\n",
    "in_seq9 = array(datatrain['weekday_2'])\n",
    "in_seq10 = array(datatrain['weekday_3'])\n",
    "in_seq11 = array(datatrain['weekday_4'])\n",
    "in_seq12 = array(datatrain['weekday_5'])\n",
    "in_seq13 = array(datatrain['weekday_6'])\n",
    "in_seq14 = array(datatrain['weathersit_1'])\n",
    "in_seq15 = array(datatrain['weathersit_2'])\n",
    "in_seq16 = array(datatrain['weathersit_3'])\n",
    "out_seq_train = array(datatrain['cntscl'])"
   ]
  },
  {
   "cell_type": "code",
   "execution_count": 18,
   "id": "b7ab4ba9",
   "metadata": {},
   "outputs": [],
   "source": [
    "in_seq1 = in_seq1.reshape((len(in_seq1), 1))\n",
    "in_seq2 = in_seq2.reshape((len(in_seq2), 1))\n",
    "in_seq3 = in_seq3.reshape((len(in_seq3), 1))\n",
    "in_seq4 = in_seq4.reshape((len(in_seq4), 1))\n",
    "in_seq5 = in_seq5.reshape((len(in_seq5), 1))\n",
    "in_seq6 = in_seq6.reshape((len(in_seq6), 1))\n",
    "in_seq7 = in_seq7.reshape((len(in_seq7), 1))\n",
    "in_seq8 = in_seq8.reshape((len(in_seq8), 1))\n",
    "in_seq9 = in_seq9.reshape((len(in_seq9), 1))\n",
    "in_seq10 = in_seq10.reshape((len(in_seq10), 1))\n",
    "in_seq11 = in_seq11.reshape((len(in_seq11), 1))\n",
    "in_seq12 = in_seq12.reshape((len(in_seq12), 1))\n",
    "in_seq13 = in_seq13.reshape((len(in_seq13), 1))\n",
    "in_seq14 = in_seq14.reshape((len(in_seq14), 1))\n",
    "in_seq15 = in_seq15.reshape((len(in_seq15), 1))\n",
    "in_seq16 = in_seq16.reshape((len(in_seq16), 1))\n",
    "out_seq_train = out_seq_train.reshape((len(out_seq_train), 1))"
   ]
  },
  {
   "cell_type": "code",
   "execution_count": 19,
   "id": "6d19cb08",
   "metadata": {},
   "outputs": [],
   "source": [
    "datatrain_feed = hstack((in_seq1, in_seq2, in_seq3, in_seq4, in_seq5, in_seq6, in_seq7, in_seq8, in_seq9, in_seq10, in_seq11, in_seq12, in_seq13, in_seq14, in_seq15, in_seq16, out_seq_train))"
   ]
  },
  {
   "cell_type": "code",
   "execution_count": 20,
   "id": "47c09ad6",
   "metadata": {},
   "outputs": [],
   "source": [
    "in_seq1 = array(datatest['holiday'])\n",
    "in_seq2 = array(datatest['workingday'])\n",
    "in_seq3 = array(datatest['temp'])\n",
    "in_seq4 = array(datatest['atemp'])\n",
    "in_seq5 = array(datatest['hum'])\n",
    "in_seq6 = array(datatest['windspeed'])\n",
    "in_seq7 = array(datatest['weekday_0'])\n",
    "in_seq8 = array(datatest['weekday_1'])\n",
    "in_seq9 = array(datatest['weekday_2'])\n",
    "in_seq10 = array(datatest['weekday_3'])\n",
    "in_seq11 = array(datatest['weekday_4'])\n",
    "in_seq12 = array(datatest['weekday_5'])\n",
    "in_seq13 = array(datatest['weekday_6'])\n",
    "in_seq14 = array(datatest['weathersit_1'])\n",
    "in_seq15 = array(datatest['weathersit_2'])\n",
    "in_seq16 = array(datatest['weathersit_3'])\n",
    "out_seq_test = array(datatest['cntscl'])"
   ]
  },
  {
   "cell_type": "code",
   "execution_count": 21,
   "id": "10dfb915",
   "metadata": {},
   "outputs": [],
   "source": [
    "in_seq1 = in_seq1.reshape((len(in_seq1), 1))\n",
    "in_seq2 = in_seq2.reshape((len(in_seq2), 1))\n",
    "in_seq3 = in_seq3.reshape((len(in_seq3), 1))\n",
    "in_seq4 = in_seq4.reshape((len(in_seq4), 1))\n",
    "in_seq5 = in_seq5.reshape((len(in_seq5), 1))\n",
    "in_seq6 = in_seq6.reshape((len(in_seq6), 1))\n",
    "in_seq7 = in_seq7.reshape((len(in_seq7), 1))\n",
    "in_seq8 = in_seq8.reshape((len(in_seq8), 1))\n",
    "in_seq9 = in_seq9.reshape((len(in_seq9), 1))\n",
    "in_seq10 = in_seq10.reshape((len(in_seq10), 1))\n",
    "in_seq11 = in_seq11.reshape((len(in_seq11), 1))\n",
    "in_seq12 = in_seq12.reshape((len(in_seq12), 1))\n",
    "in_seq13 = in_seq13.reshape((len(in_seq13), 1))\n",
    "in_seq14 = in_seq14.reshape((len(in_seq14), 1))\n",
    "in_seq15 = in_seq15.reshape((len(in_seq15), 1))\n",
    "in_seq16 = in_seq16.reshape((len(in_seq16), 1))\n",
    "out_seq_test = out_seq_test.reshape((len(out_seq_test), 1))"
   ]
  },
  {
   "cell_type": "code",
   "execution_count": 22,
   "id": "0b50ef17",
   "metadata": {},
   "outputs": [],
   "source": [
    "datatest_feed = hstack((in_seq1, in_seq2, in_seq3, in_seq4, in_seq5, in_seq6, in_seq7, in_seq8, in_seq9, in_seq10, in_seq11, in_seq12, in_seq13, in_seq14, in_seq15, in_seq16, out_seq_test))"
   ]
  },
  {
   "cell_type": "code",
   "execution_count": 23,
   "id": "b0a660b9",
   "metadata": {},
   "outputs": [],
   "source": [
    "in_seq1 = array(datahold['holiday'])\n",
    "in_seq2 = array(datahold['workingday'])\n",
    "in_seq3 = array(datahold['temp'])\n",
    "in_seq4 = array(datahold['atemp'])\n",
    "in_seq5 = array(datahold['hum'])\n",
    "in_seq6 = array(datahold['windspeed'])\n",
    "in_seq7 = array(datahold['weekday_0'])\n",
    "in_seq8 = array(datahold['weekday_1'])\n",
    "in_seq9 = array(datahold['weekday_2'])\n",
    "in_seq10 = array(datahold['weekday_3'])\n",
    "in_seq11 = array(datahold['weekday_4'])\n",
    "in_seq12 = array(datahold['weekday_5'])\n",
    "in_seq13 = array(datahold['weekday_6'])\n",
    "in_seq14 = array(datahold['weathersit_1'])\n",
    "in_seq15 = array(datahold['weathersit_2'])\n",
    "in_seq16 = array(datahold['weathersit_3'])\n",
    "out_seq_hold = array(datahold['cntscl'])"
   ]
  },
  {
   "cell_type": "code",
   "execution_count": 24,
   "id": "87332d87",
   "metadata": {},
   "outputs": [],
   "source": [
    "in_seq1 = in_seq1.reshape((len(in_seq1), 1))\n",
    "in_seq2 = in_seq2.reshape((len(in_seq2), 1))\n",
    "in_seq3 = in_seq3.reshape((len(in_seq3), 1))\n",
    "in_seq4 = in_seq4.reshape((len(in_seq4), 1))\n",
    "in_seq5 = in_seq5.reshape((len(in_seq5), 1))\n",
    "in_seq6 = in_seq6.reshape((len(in_seq6), 1))\n",
    "in_seq7 = in_seq7.reshape((len(in_seq7), 1))\n",
    "in_seq8 = in_seq8.reshape((len(in_seq8), 1))\n",
    "in_seq9 = in_seq9.reshape((len(in_seq9), 1))\n",
    "in_seq10 = in_seq10.reshape((len(in_seq10), 1))\n",
    "in_seq11 = in_seq11.reshape((len(in_seq11), 1))\n",
    "in_seq12 = in_seq12.reshape((len(in_seq12), 1))\n",
    "in_seq13 = in_seq13.reshape((len(in_seq13), 1))\n",
    "in_seq14 = in_seq14.reshape((len(in_seq14), 1))\n",
    "in_seq15 = in_seq15.reshape((len(in_seq15), 1))\n",
    "in_seq16 = in_seq16.reshape((len(in_seq16), 1))\n",
    "out_seq_hold = out_seq_hold.reshape((len(out_seq_hold), 1))"
   ]
  },
  {
   "cell_type": "code",
   "execution_count": 25,
   "id": "738cebc0",
   "metadata": {},
   "outputs": [],
   "source": [
    "datahold_feed = hstack((in_seq1, in_seq2, in_seq3, in_seq4, in_seq5, in_seq6, in_seq7, in_seq8, in_seq9, in_seq10, in_seq11, in_seq12, in_seq13, in_seq14, in_seq15, in_seq16, out_seq_hold))"
   ]
  },
  {
   "cell_type": "code",
   "execution_count": 26,
   "id": "936b1ae3",
   "metadata": {},
   "outputs": [],
   "source": [
    "n_features = datatrain_feed.shape[1]\n",
    "n_input = 10\n",
    "generator_train = TimeseriesGenerator(datatrain_feed, out_seq_train, length=n_input, batch_size=len(datatrain_feed))"
   ]
  },
  {
   "cell_type": "code",
   "execution_count": 27,
   "id": "eb5e64d7",
   "metadata": {},
   "outputs": [],
   "source": [
    "generator_test = TimeseriesGenerator(datatest_feed, out_seq_test, length=n_input, batch_size=1)"
   ]
  },
  {
   "cell_type": "code",
   "execution_count": 28,
   "id": "4d090481",
   "metadata": {},
   "outputs": [],
   "source": [
    "generator_hold = TimeseriesGenerator(datahold_feed, out_seq_hold, length=n_input, batch_size=1)\n"
   ]
  },
  {
   "cell_type": "markdown",
   "id": "204f690d",
   "metadata": {},
   "source": [
    "We have created a small RNN with 4 nodes. Number of total parameters in the model is 93. Number of timesteps in one batch is 10. Activation function is relu both for RNN and Output layer. Optimizer is adam. Loss function is mean squared error. Learning rate is 0.0001. Number of epocs is 3,000."
   ]
  },
  {
   "cell_type": "code",
   "execution_count": 29,
   "id": "5d349509",
   "metadata": {},
   "outputs": [
    {
     "name": "stdout",
     "output_type": "stream",
     "text": [
      "timesteps, features: 10 17\n"
     ]
    }
   ],
   "source": [
    "print(\"timesteps, features:\", n_input, n_features)"
   ]
  },
  {
   "cell_type": "code",
   "execution_count": 30,
   "id": "3f78ad29",
   "metadata": {},
   "outputs": [
    {
     "name": "stderr",
     "output_type": "stream",
     "text": [
      "C:\\Users\\User\\.conda\\envs\\gemastik\\lib\\site-packages\\keras\\optimizers\\optimizer_v2\\adam.py:114: UserWarning: The `lr` argument is deprecated, use `learning_rate` instead.\n",
      "  super().__init__(name, **kwargs)\n"
     ]
    }
   ],
   "source": [
    "model = Sequential()\n",
    "\n",
    "model.add(SimpleRNN(4, activation='relu', input_shape=(n_input, n_features), return_sequences = False))\n",
    "model.add(Dense(1, activation='relu'))\n",
    "\n",
    "adam = Adam(lr=0.0001)\n",
    "model.compile(optimizer=adam, loss='mse')"
   ]
  },
  {
   "cell_type": "code",
   "execution_count": 31,
   "id": "82df0ff3",
   "metadata": {},
   "outputs": [
    {
     "name": "stdout",
     "output_type": "stream",
     "text": [
      "Model: \"sequential\"\n",
      "_________________________________________________________________\n",
      " Layer (type)                Output Shape              Param #   \n",
      "=================================================================\n",
      " simple_rnn (SimpleRNN)      (None, 4)                 88        \n",
      "                                                                 \n",
      " dense (Dense)               (None, 1)                 5         \n",
      "                                                                 \n",
      "=================================================================\n",
      "Total params: 93\n",
      "Trainable params: 93\n",
      "Non-trainable params: 0\n",
      "_________________________________________________________________\n"
     ]
    }
   ],
   "source": [
    "model.summary()"
   ]
  },
  {
   "cell_type": "code",
   "execution_count": 35,
   "id": "9dc01e66",
   "metadata": {},
   "outputs": [
    {
     "name": "stderr",
     "output_type": "stream",
     "text": [
      "C:\\Users\\User\\AppData\\Local\\Temp\\ipykernel_11908\\1697732955.py:1: UserWarning: `Model.fit_generator` is deprecated and will be removed in a future version. Please use `Model.fit`, which supports generators.\n",
      "  score = model.fit_generator(generator_train,\n"
     ]
    }
   ],
   "source": [
    "score = model.fit_generator(generator_train,\n",
    "                            epochs=100,\n",
    "                            verbose=0,\n",
    "                            validation_data=generator_test)"
   ]
  },
  {
   "cell_type": "code",
   "execution_count": 36,
   "id": "3cdf7213",
   "metadata": {},
   "outputs": [
    {
     "data": {
      "image/png": "[encoded data removed]",
      "text/plain": [
       "<Figure size 1000x500 with 1 Axes>"
      ]
     },
     "metadata": {},
     "output_type": "display_data"
    }
   ],
   "source": [
    "losses = score.history['loss']\n",
    "val_losses = score.history['val_loss']\n",
    "plt.figure(figsize=(10,5))\n",
    "plt.plot(losses, label=\"trainset\")\n",
    "plt.plot(val_losses, label=\"testset\")\n",
    "plt.legend(bbox_to_anchor=(1.05, 1), loc=2, borderaxespad=0.)\n",
    "plt.show()"
   ]
  },
  {
   "cell_type": "code",
   "execution_count": 37,
   "id": "87e554ec",
   "metadata": {},
   "outputs": [
    {
     "name": "stdout",
     "output_type": "stream",
     "text": [
      "1/1 - 0s - 393ms/epoch - 393ms/step\n",
      "1/1 - 0s - 25ms/epoch - 25ms/step\n",
      "1/1 - 0s - 23ms/epoch - 23ms/step\n"
     ]
    },
    {
     "name": "stderr",
     "output_type": "stream",
     "text": [
      "C:\\Users\\User\\AppData\\Local\\Temp\\ipykernel_11908\\3594516680.py:7: FutureWarning: The frame.append method is deprecated and will be removed from pandas in a future version. Use pandas.concat instead.\n",
      "  df_result = df_result.append({'Actual': scaler.inverse_transform(y)[0][0], 'Prediction': scaler.inverse_transform(yhat)[0][0]}, ignore_index=True)\n",
      "C:\\Users\\User\\AppData\\Local\\Temp\\ipykernel_11908\\3594516680.py:7: FutureWarning: The frame.append method is deprecated and will be removed from pandas in a future version. Use pandas.concat instead.\n",
      "  df_result = df_result.append({'Actual': scaler.inverse_transform(y)[0][0], 'Prediction': scaler.inverse_transform(yhat)[0][0]}, ignore_index=True)\n",
      "C:\\Users\\User\\AppData\\Local\\Temp\\ipykernel_11908\\3594516680.py:7: FutureWarning: The frame.append method is deprecated and will be removed from pandas in a future version. Use pandas.concat instead.\n",
      "  df_result = df_result.append({'Actual': scaler.inverse_transform(y)[0][0], 'Prediction': scaler.inverse_transform(yhat)[0][0]}, ignore_index=True)\n"
     ]
    },
    {
     "name": "stdout",
     "output_type": "stream",
     "text": [
      "1/1 - 0s - 21ms/epoch - 21ms/step\n",
      "1/1 - 0s - 21ms/epoch - 21ms/step\n",
      "1/1 - 0s - 19ms/epoch - 19ms/step\n",
      "1/1 - 0s - 20ms/epoch - 20ms/step\n"
     ]
    },
    {
     "name": "stderr",
     "output_type": "stream",
     "text": [
      "C:\\Users\\User\\AppData\\Local\\Temp\\ipykernel_11908\\3594516680.py:7: FutureWarning: The frame.append method is deprecated and will be removed from pandas in a future version. Use pandas.concat instead.\n",
      "  df_result = df_result.append({'Actual': scaler.inverse_transform(y)[0][0], 'Prediction': scaler.inverse_transform(yhat)[0][0]}, ignore_index=True)\n",
      "C:\\Users\\User\\AppData\\Local\\Temp\\ipykernel_11908\\3594516680.py:7: FutureWarning: The frame.append method is deprecated and will be removed from pandas in a future version. Use pandas.concat instead.\n",
      "  df_result = df_result.append({'Actual': scaler.inverse_transform(y)[0][0], 'Prediction': scaler.inverse_transform(yhat)[0][0]}, ignore_index=True)\n",
      "C:\\Users\\User\\AppData\\Local\\Temp\\ipykernel_11908\\3594516680.py:7: FutureWarning: The frame.append method is deprecated and will be removed from pandas in a future version. Use pandas.concat instead.\n",
      "  df_result = df_result.append({'Actual': scaler.inverse_transform(y)[0][0], 'Prediction': scaler.inverse_transform(yhat)[0][0]}, ignore_index=True)\n",
      "C:\\Users\\User\\AppData\\Local\\Temp\\ipykernel_11908\\3594516680.py:7: FutureWarning: The frame.append method is deprecated and will be removed from pandas in a future version. Use pandas.concat instead.\n",
      "  df_result = df_result.append({'Actual': scaler.inverse_transform(y)[0][0], 'Prediction': scaler.inverse_transform(yhat)[0][0]}, ignore_index=True)\n"
     ]
    },
    {
     "name": "stdout",
     "output_type": "stream",
     "text": [
      "1/1 - 0s - 27ms/epoch - 27ms/step\n",
      "1/1 - 0s - 22ms/epoch - 22ms/step\n",
      "1/1 - 0s - 28ms/epoch - 28ms/step\n"
     ]
    },
    {
     "name": "stderr",
     "output_type": "stream",
     "text": [
      "C:\\Users\\User\\AppData\\Local\\Temp\\ipykernel_11908\\3594516680.py:7: FutureWarning: The frame.append method is deprecated and will be removed from pandas in a future version. Use pandas.concat instead.\n",
      "  df_result = df_result.append({'Actual': scaler.inverse_transform(y)[0][0], 'Prediction': scaler.inverse_transform(yhat)[0][0]}, ignore_index=True)\n",
      "C:\\Users\\User\\AppData\\Local\\Temp\\ipykernel_11908\\3594516680.py:7: FutureWarning: The frame.append method is deprecated and will be removed from pandas in a future version. Use pandas.concat instead.\n",
      "  df_result = df_result.append({'Actual': scaler.inverse_transform(y)[0][0], 'Prediction': scaler.inverse_transform(yhat)[0][0]}, ignore_index=True)\n",
      "C:\\Users\\User\\AppData\\Local\\Temp\\ipykernel_11908\\3594516680.py:7: FutureWarning: The frame.append method is deprecated and will be removed from pandas in a future version. Use pandas.concat instead.\n",
      "  df_result = df_result.append({'Actual': scaler.inverse_transform(y)[0][0], 'Prediction': scaler.inverse_transform(yhat)[0][0]}, ignore_index=True)\n"
     ]
    },
    {
     "name": "stdout",
     "output_type": "stream",
     "text": [
      "1/1 - 0s - 24ms/epoch - 24ms/step\n",
      "1/1 - 0s - 21ms/epoch - 21ms/step\n",
      "1/1 - 0s - 21ms/epoch - 21ms/step\n",
      "1/1 - 0s - 18ms/epoch - 18ms/step\n"
     ]
    },
    {
     "name": "stderr",
     "output_type": "stream",
     "text": [
      "C:\\Users\\User\\AppData\\Local\\Temp\\ipykernel_11908\\3594516680.py:7: FutureWarning: The frame.append method is deprecated and will be removed from pandas in a future version. Use pandas.concat instead.\n",
      "  df_result = df_result.append({'Actual': scaler.inverse_transform(y)[0][0], 'Prediction': scaler.inverse_transform(yhat)[0][0]}, ignore_index=True)\n",
      "C:\\Users\\User\\AppData\\Local\\Temp\\ipykernel_11908\\3594516680.py:7: FutureWarning: The frame.append method is deprecated and will be removed from pandas in a future version. Use pandas.concat instead.\n",
      "  df_result = df_result.append({'Actual': scaler.inverse_transform(y)[0][0], 'Prediction': scaler.inverse_transform(yhat)[0][0]}, ignore_index=True)\n",
      "C:\\Users\\User\\AppData\\Local\\Temp\\ipykernel_11908\\3594516680.py:7: FutureWarning: The frame.append method is deprecated and will be removed from pandas in a future version. Use pandas.concat instead.\n",
      "  df_result = df_result.append({'Actual': scaler.inverse_transform(y)[0][0], 'Prediction': scaler.inverse_transform(yhat)[0][0]}, ignore_index=True)\n"
     ]
    },
    {
     "name": "stdout",
     "output_type": "stream",
     "text": [
      "1/1 - 0s - 21ms/epoch - 21ms/step\n",
      "1/1 - 0s - 20ms/epoch - 20ms/step\n",
      "1/1 - 0s - 22ms/epoch - 22ms/step\n"
     ]
    },
    {
     "name": "stderr",
     "output_type": "stream",
     "text": [
      "C:\\Users\\User\\AppData\\Local\\Temp\\ipykernel_11908\\3594516680.py:7: FutureWarning: The frame.append method is deprecated and will be removed from pandas in a future version. Use pandas.concat instead.\n",
      "  df_result = df_result.append({'Actual': scaler.inverse_transform(y)[0][0], 'Prediction': scaler.inverse_transform(yhat)[0][0]}, ignore_index=True)\n",
      "C:\\Users\\User\\AppData\\Local\\Temp\\ipykernel_11908\\3594516680.py:7: FutureWarning: The frame.append method is deprecated and will be removed from pandas in a future version. Use pandas.concat instead.\n",
      "  df_result = df_result.append({'Actual': scaler.inverse_transform(y)[0][0], 'Prediction': scaler.inverse_transform(yhat)[0][0]}, ignore_index=True)\n",
      "C:\\Users\\User\\AppData\\Local\\Temp\\ipykernel_11908\\3594516680.py:7: FutureWarning: The frame.append method is deprecated and will be removed from pandas in a future version. Use pandas.concat instead.\n",
      "  df_result = df_result.append({'Actual': scaler.inverse_transform(y)[0][0], 'Prediction': scaler.inverse_transform(yhat)[0][0]}, ignore_index=True)\n"
     ]
    },
    {
     "name": "stdout",
     "output_type": "stream",
     "text": [
      "1/1 - 0s - 19ms/epoch - 19ms/step\n",
      "1/1 - 0s - 19ms/epoch - 19ms/step\n",
      "1/1 - 0s - 19ms/epoch - 19ms/step\n"
     ]
    },
    {
     "name": "stderr",
     "output_type": "stream",
     "text": [
      "C:\\Users\\User\\AppData\\Local\\Temp\\ipykernel_11908\\3594516680.py:7: FutureWarning: The frame.append method is deprecated and will be removed from pandas in a future version. Use pandas.concat instead.\n",
      "  df_result = df_result.append({'Actual': scaler.inverse_transform(y)[0][0], 'Prediction': scaler.inverse_transform(yhat)[0][0]}, ignore_index=True)\n",
      "C:\\Users\\User\\AppData\\Local\\Temp\\ipykernel_11908\\3594516680.py:7: FutureWarning: The frame.append method is deprecated and will be removed from pandas in a future version. Use pandas.concat instead.\n",
      "  df_result = df_result.append({'Actual': scaler.inverse_transform(y)[0][0], 'Prediction': scaler.inverse_transform(yhat)[0][0]}, ignore_index=True)\n",
      "C:\\Users\\User\\AppData\\Local\\Temp\\ipykernel_11908\\3594516680.py:7: FutureWarning: The frame.append method is deprecated and will be removed from pandas in a future version. Use pandas.concat instead.\n",
      "  df_result = df_result.append({'Actual': scaler.inverse_transform(y)[0][0], 'Prediction': scaler.inverse_transform(yhat)[0][0]}, ignore_index=True)\n",
      "C:\\Users\\User\\AppData\\Local\\Temp\\ipykernel_11908\\3594516680.py:7: FutureWarning: The frame.append method is deprecated and will be removed from pandas in a future version. Use pandas.concat instead.\n",
      "  df_result = df_result.append({'Actual': scaler.inverse_transform(y)[0][0], 'Prediction': scaler.inverse_transform(yhat)[0][0]}, ignore_index=True)\n"
     ]
    },
    {
     "name": "stdout",
     "output_type": "stream",
     "text": [
      "1/1 - 0s - 24ms/epoch - 24ms/step\n",
      "1/1 - 0s - 20ms/epoch - 20ms/step\n",
      "1/1 - 0s - 20ms/epoch - 20ms/step\n",
      "1/1 - 0s - 20ms/epoch - 20ms/step\n"
     ]
    },
    {
     "name": "stderr",
     "output_type": "stream",
     "text": [
      "C:\\Users\\User\\AppData\\Local\\Temp\\ipykernel_11908\\3594516680.py:7: FutureWarning: The frame.append method is deprecated and will be removed from pandas in a future version. Use pandas.concat instead.\n",
      "  df_result = df_result.append({'Actual': scaler.inverse_transform(y)[0][0], 'Prediction': scaler.inverse_transform(yhat)[0][0]}, ignore_index=True)\n",
      "C:\\Users\\User\\AppData\\Local\\Temp\\ipykernel_11908\\3594516680.py:7: FutureWarning: The frame.append method is deprecated and will be removed from pandas in a future version. Use pandas.concat instead.\n",
      "  df_result = df_result.append({'Actual': scaler.inverse_transform(y)[0][0], 'Prediction': scaler.inverse_transform(yhat)[0][0]}, ignore_index=True)\n",
      "C:\\Users\\User\\AppData\\Local\\Temp\\ipykernel_11908\\3594516680.py:7: FutureWarning: The frame.append method is deprecated and will be removed from pandas in a future version. Use pandas.concat instead.\n",
      "  df_result = df_result.append({'Actual': scaler.inverse_transform(y)[0][0], 'Prediction': scaler.inverse_transform(yhat)[0][0]}, ignore_index=True)\n",
      "C:\\Users\\User\\AppData\\Local\\Temp\\ipykernel_11908\\3594516680.py:7: FutureWarning: The frame.append method is deprecated and will be removed from pandas in a future version. Use pandas.concat instead.\n",
      "  df_result = df_result.append({'Actual': scaler.inverse_transform(y)[0][0], 'Prediction': scaler.inverse_transform(yhat)[0][0]}, ignore_index=True)\n"
     ]
    },
    {
     "name": "stdout",
     "output_type": "stream",
     "text": [
      "1/1 - 0s - 20ms/epoch - 20ms/step\n",
      "1/1 - 0s - 21ms/epoch - 21ms/step\n",
      "1/1 - 0s - 24ms/epoch - 24ms/step\n"
     ]
    },
    {
     "name": "stderr",
     "output_type": "stream",
     "text": [
      "C:\\Users\\User\\AppData\\Local\\Temp\\ipykernel_11908\\3594516680.py:7: FutureWarning: The frame.append method is deprecated and will be removed from pandas in a future version. Use pandas.concat instead.\n",
      "  df_result = df_result.append({'Actual': scaler.inverse_transform(y)[0][0], 'Prediction': scaler.inverse_transform(yhat)[0][0]}, ignore_index=True)\n",
      "C:\\Users\\User\\AppData\\Local\\Temp\\ipykernel_11908\\3594516680.py:7: FutureWarning: The frame.append method is deprecated and will be removed from pandas in a future version. Use pandas.concat instead.\n",
      "  df_result = df_result.append({'Actual': scaler.inverse_transform(y)[0][0], 'Prediction': scaler.inverse_transform(yhat)[0][0]}, ignore_index=True)\n",
      "C:\\Users\\User\\AppData\\Local\\Temp\\ipykernel_11908\\3594516680.py:7: FutureWarning: The frame.append method is deprecated and will be removed from pandas in a future version. Use pandas.concat instead.\n",
      "  df_result = df_result.append({'Actual': scaler.inverse_transform(y)[0][0], 'Prediction': scaler.inverse_transform(yhat)[0][0]}, ignore_index=True)\n"
     ]
    },
    {
     "name": "stdout",
     "output_type": "stream",
     "text": [
      "1/1 - 0s - 25ms/epoch - 25ms/step\n",
      "1/1 - 0s - 20ms/epoch - 20ms/step\n",
      "1/1 - 0s - 19ms/epoch - 19ms/step\n",
      "1/1 - 0s - 19ms/epoch - 19ms/step\n"
     ]
    },
    {
     "name": "stderr",
     "output_type": "stream",
     "text": [
      "C:\\Users\\User\\AppData\\Local\\Temp\\ipykernel_11908\\3594516680.py:7: FutureWarning: The frame.append method is deprecated and will be removed from pandas in a future version. Use pandas.concat instead.\n",
      "  df_result = df_result.append({'Actual': scaler.inverse_transform(y)[0][0], 'Prediction': scaler.inverse_transform(yhat)[0][0]}, ignore_index=True)\n",
      "C:\\Users\\User\\AppData\\Local\\Temp\\ipykernel_11908\\3594516680.py:7: FutureWarning: The frame.append method is deprecated and will be removed from pandas in a future version. Use pandas.concat instead.\n",
      "  df_result = df_result.append({'Actual': scaler.inverse_transform(y)[0][0], 'Prediction': scaler.inverse_transform(yhat)[0][0]}, ignore_index=True)\n",
      "C:\\Users\\User\\AppData\\Local\\Temp\\ipykernel_11908\\3594516680.py:7: FutureWarning: The frame.append method is deprecated and will be removed from pandas in a future version. Use pandas.concat instead.\n",
      "  df_result = df_result.append({'Actual': scaler.inverse_transform(y)[0][0], 'Prediction': scaler.inverse_transform(yhat)[0][0]}, ignore_index=True)\n",
      "C:\\Users\\User\\AppData\\Local\\Temp\\ipykernel_11908\\3594516680.py:7: FutureWarning: The frame.append method is deprecated and will be removed from pandas in a future version. Use pandas.concat instead.\n",
      "  df_result = df_result.append({'Actual': scaler.inverse_transform(y)[0][0], 'Prediction': scaler.inverse_transform(yhat)[0][0]}, ignore_index=True)\n"
     ]
    },
    {
     "name": "stdout",
     "output_type": "stream",
     "text": [
      "1/1 - 0s - 20ms/epoch - 20ms/step\n",
      "1/1 - 0s - 20ms/epoch - 20ms/step\n",
      "1/1 - 0s - 20ms/epoch - 20ms/step\n",
      "1/1 - 0s - 19ms/epoch - 19ms/step\n"
     ]
    },
    {
     "name": "stderr",
     "output_type": "stream",
     "text": [
      "C:\\Users\\User\\AppData\\Local\\Temp\\ipykernel_11908\\3594516680.py:7: FutureWarning: The frame.append method is deprecated and will be removed from pandas in a future version. Use pandas.concat instead.\n",
      "  df_result = df_result.append({'Actual': scaler.inverse_transform(y)[0][0], 'Prediction': scaler.inverse_transform(yhat)[0][0]}, ignore_index=True)\n",
      "C:\\Users\\User\\AppData\\Local\\Temp\\ipykernel_11908\\3594516680.py:7: FutureWarning: The frame.append method is deprecated and will be removed from pandas in a future version. Use pandas.concat instead.\n",
      "  df_result = df_result.append({'Actual': scaler.inverse_transform(y)[0][0], 'Prediction': scaler.inverse_transform(yhat)[0][0]}, ignore_index=True)\n",
      "C:\\Users\\User\\AppData\\Local\\Temp\\ipykernel_11908\\3594516680.py:7: FutureWarning: The frame.append method is deprecated and will be removed from pandas in a future version. Use pandas.concat instead.\n",
      "  df_result = df_result.append({'Actual': scaler.inverse_transform(y)[0][0], 'Prediction': scaler.inverse_transform(yhat)[0][0]}, ignore_index=True)\n",
      "C:\\Users\\User\\AppData\\Local\\Temp\\ipykernel_11908\\3594516680.py:7: FutureWarning: The frame.append method is deprecated and will be removed from pandas in a future version. Use pandas.concat instead.\n",
      "  df_result = df_result.append({'Actual': scaler.inverse_transform(y)[0][0], 'Prediction': scaler.inverse_transform(yhat)[0][0]}, ignore_index=True)\n"
     ]
    },
    {
     "name": "stdout",
     "output_type": "stream",
     "text": [
      "1/1 - 0s - 21ms/epoch - 21ms/step\n",
      "1/1 - 0s - 20ms/epoch - 20ms/step\n",
      "1/1 - 0s - 20ms/epoch - 20ms/step\n",
      "1/1 - 0s - 19ms/epoch - 19ms/step\n"
     ]
    },
    {
     "name": "stderr",
     "output_type": "stream",
     "text": [
      "C:\\Users\\User\\AppData\\Local\\Temp\\ipykernel_11908\\3594516680.py:7: FutureWarning: The frame.append method is deprecated and will be removed from pandas in a future version. Use pandas.concat instead.\n",
      "  df_result = df_result.append({'Actual': scaler.inverse_transform(y)[0][0], 'Prediction': scaler.inverse_transform(yhat)[0][0]}, ignore_index=True)\n",
      "C:\\Users\\User\\AppData\\Local\\Temp\\ipykernel_11908\\3594516680.py:7: FutureWarning: The frame.append method is deprecated and will be removed from pandas in a future version. Use pandas.concat instead.\n",
      "  df_result = df_result.append({'Actual': scaler.inverse_transform(y)[0][0], 'Prediction': scaler.inverse_transform(yhat)[0][0]}, ignore_index=True)\n",
      "C:\\Users\\User\\AppData\\Local\\Temp\\ipykernel_11908\\3594516680.py:7: FutureWarning: The frame.append method is deprecated and will be removed from pandas in a future version. Use pandas.concat instead.\n",
      "  df_result = df_result.append({'Actual': scaler.inverse_transform(y)[0][0], 'Prediction': scaler.inverse_transform(yhat)[0][0]}, ignore_index=True)\n",
      "C:\\Users\\User\\AppData\\Local\\Temp\\ipykernel_11908\\3594516680.py:7: FutureWarning: The frame.append method is deprecated and will be removed from pandas in a future version. Use pandas.concat instead.\n",
      "  df_result = df_result.append({'Actual': scaler.inverse_transform(y)[0][0], 'Prediction': scaler.inverse_transform(yhat)[0][0]}, ignore_index=True)\n"
     ]
    },
    {
     "name": "stdout",
     "output_type": "stream",
     "text": [
      "1/1 - 0s - 20ms/epoch - 20ms/step\n"
     ]
    },
    {
     "name": "stderr",
     "output_type": "stream",
     "text": [
      "C:\\Users\\User\\AppData\\Local\\Temp\\ipykernel_11908\\3594516680.py:7: FutureWarning: The frame.append method is deprecated and will be removed from pandas in a future version. Use pandas.concat instead.\n",
      "  df_result = df_result.append({'Actual': scaler.inverse_transform(y)[0][0], 'Prediction': scaler.inverse_transform(yhat)[0][0]}, ignore_index=True)\n"
     ]
    }
   ],
   "source": [
    "df_result = pd.DataFrame({'Actual' : [], 'Prediction' : []})\n",
    "\n",
    "for i in range(len(generator_test)):\n",
    "    x, y = generator_test[i]\n",
    "    x_input = array(x).reshape((1, n_input, n_features))\n",
    "    yhat = model.predict(x_input, verbose=2)\n",
    "    df_result = df_result.append({'Actual': scaler.inverse_transform(y)[0][0], 'Prediction': scaler.inverse_transform(yhat)[0][0]}, ignore_index=True)"
   ]
  },
  {
   "cell_type": "code",
   "execution_count": 38,
   "id": "a02e3144",
   "metadata": {},
   "outputs": [],
   "source": [
    "df_result['Diff'] = 100 * (df_result['Prediction'] - df_result['Actual']) / df_result['Actual']"
   ]
  },
  {
   "cell_type": "code",
   "execution_count": 39,
   "id": "1c5cdfe0",
   "metadata": {},
   "outputs": [
    {
     "data": {
      "text/html": [
       "<div>\n",
       "<style scoped>\n",
       "    .dataframe tbody tr th:only-of-type {\n",
       "        vertical-align: middle;\n",
       "    }\n",
       "\n",
       "    .dataframe tbody tr th {\n",
       "        vertical-align: top;\n",
       "    }\n",
       "\n",
       "    .dataframe thead th {\n",
       "        text-align: right;\n",
       "    }\n",
       "</style>\n",
       "<table border=\"1\" class=\"dataframe\">\n",
       "  <thead>\n",
       "    <tr style=\"text-align: right;\">\n",
       "      <th></th>\n",
       "      <th>Actual</th>\n",
       "      <th>Prediction</th>\n",
       "      <th>Diff</th>\n",
       "    </tr>\n",
       "  </thead>\n",
       "  <tbody>\n",
       "    <tr>\n",
       "      <th>0</th>\n",
       "      <td>7572.0</td>\n",
       "      <td>6310.297852</td>\n",
       "      <td>-16.662733</td>\n",
       "    </tr>\n",
       "    <tr>\n",
       "      <th>1</th>\n",
       "      <td>7328.0</td>\n",
       "      <td>6990.115234</td>\n",
       "      <td>-4.610873</td>\n",
       "    </tr>\n",
       "    <tr>\n",
       "      <th>2</th>\n",
       "      <td>8156.0</td>\n",
       "      <td>9566.208008</td>\n",
       "      <td>17.290437</td>\n",
       "    </tr>\n",
       "    <tr>\n",
       "      <th>3</th>\n",
       "      <td>7965.0</td>\n",
       "      <td>7872.886719</td>\n",
       "      <td>-1.156476</td>\n",
       "    </tr>\n",
       "    <tr>\n",
       "      <th>4</th>\n",
       "      <td>3510.0</td>\n",
       "      <td>7060.623047</td>\n",
       "      <td>101.157352</td>\n",
       "    </tr>\n",
       "    <tr>\n",
       "      <th>5</th>\n",
       "      <td>5478.0</td>\n",
       "      <td>4987.320312</td>\n",
       "      <td>-8.957278</td>\n",
       "    </tr>\n",
       "    <tr>\n",
       "      <th>6</th>\n",
       "      <td>6392.0</td>\n",
       "      <td>4346.066895</td>\n",
       "      <td>-32.007714</td>\n",
       "    </tr>\n",
       "    <tr>\n",
       "      <th>7</th>\n",
       "      <td>7691.0</td>\n",
       "      <td>7473.877441</td>\n",
       "      <td>-2.823073</td>\n",
       "    </tr>\n",
       "    <tr>\n",
       "      <th>8</th>\n",
       "      <td>7570.0</td>\n",
       "      <td>4904.395020</td>\n",
       "      <td>-35.212747</td>\n",
       "    </tr>\n",
       "    <tr>\n",
       "      <th>9</th>\n",
       "      <td>7282.0</td>\n",
       "      <td>9343.055664</td>\n",
       "      <td>28.303429</td>\n",
       "    </tr>\n",
       "    <tr>\n",
       "      <th>10</th>\n",
       "      <td>7109.0</td>\n",
       "      <td>7488.616699</td>\n",
       "      <td>5.339945</td>\n",
       "    </tr>\n",
       "    <tr>\n",
       "      <th>11</th>\n",
       "      <td>6639.0</td>\n",
       "      <td>6544.663086</td>\n",
       "      <td>-1.420951</td>\n",
       "    </tr>\n",
       "    <tr>\n",
       "      <th>12</th>\n",
       "      <td>5875.0</td>\n",
       "      <td>4455.323242</td>\n",
       "      <td>-24.164711</td>\n",
       "    </tr>\n",
       "    <tr>\n",
       "      <th>13</th>\n",
       "      <td>7534.0</td>\n",
       "      <td>8642.204102</td>\n",
       "      <td>14.709372</td>\n",
       "    </tr>\n",
       "    <tr>\n",
       "      <th>14</th>\n",
       "      <td>7461.0</td>\n",
       "      <td>6378.115723</td>\n",
       "      <td>-14.513929</td>\n",
       "    </tr>\n",
       "    <tr>\n",
       "      <th>15</th>\n",
       "      <td>7509.0</td>\n",
       "      <td>7290.207031</td>\n",
       "      <td>-2.913743</td>\n",
       "    </tr>\n",
       "    <tr>\n",
       "      <th>16</th>\n",
       "      <td>5424.0</td>\n",
       "      <td>9306.385742</td>\n",
       "      <td>71.577908</td>\n",
       "    </tr>\n",
       "    <tr>\n",
       "      <th>17</th>\n",
       "      <td>8090.0</td>\n",
       "      <td>7431.324707</td>\n",
       "      <td>-8.141845</td>\n",
       "    </tr>\n",
       "    <tr>\n",
       "      <th>18</th>\n",
       "      <td>6824.0</td>\n",
       "      <td>6365.552734</td>\n",
       "      <td>-6.718160</td>\n",
       "    </tr>\n",
       "    <tr>\n",
       "      <th>19</th>\n",
       "      <td>7058.0</td>\n",
       "      <td>3664.170166</td>\n",
       "      <td>-48.084866</td>\n",
       "    </tr>\n",
       "    <tr>\n",
       "      <th>20</th>\n",
       "      <td>7466.0</td>\n",
       "      <td>8077.333008</td>\n",
       "      <td>8.188227</td>\n",
       "    </tr>\n",
       "    <tr>\n",
       "      <th>21</th>\n",
       "      <td>7693.0</td>\n",
       "      <td>5566.322754</td>\n",
       "      <td>-27.644316</td>\n",
       "    </tr>\n",
       "    <tr>\n",
       "      <th>22</th>\n",
       "      <td>7359.0</td>\n",
       "      <td>6059.608887</td>\n",
       "      <td>-17.657170</td>\n",
       "    </tr>\n",
       "    <tr>\n",
       "      <th>23</th>\n",
       "      <td>7444.0</td>\n",
       "      <td>9203.250000</td>\n",
       "      <td>23.633127</td>\n",
       "    </tr>\n",
       "    <tr>\n",
       "      <th>24</th>\n",
       "      <td>7852.0</td>\n",
       "      <td>6624.619141</td>\n",
       "      <td>-15.631442</td>\n",
       "    </tr>\n",
       "    <tr>\n",
       "      <th>25</th>\n",
       "      <td>4459.0</td>\n",
       "      <td>6309.093262</td>\n",
       "      <td>41.491215</td>\n",
       "    </tr>\n",
       "    <tr>\n",
       "      <th>26</th>\n",
       "      <td>6414.0</td>\n",
       "      <td>5187.775879</td>\n",
       "      <td>-19.117931</td>\n",
       "    </tr>\n",
       "    <tr>\n",
       "      <th>27</th>\n",
       "      <td>6414.0</td>\n",
       "      <td>10340.264648</td>\n",
       "      <td>61.213980</td>\n",
       "    </tr>\n",
       "    <tr>\n",
       "      <th>28</th>\n",
       "      <td>5566.0</td>\n",
       "      <td>7928.786133</td>\n",
       "      <td>42.450344</td>\n",
       "    </tr>\n",
       "    <tr>\n",
       "      <th>29</th>\n",
       "      <td>5986.0</td>\n",
       "      <td>8525.119141</td>\n",
       "      <td>42.417627</td>\n",
       "    </tr>\n",
       "    <tr>\n",
       "      <th>30</th>\n",
       "      <td>5847.0</td>\n",
       "      <td>9272.021484</td>\n",
       "      <td>58.577416</td>\n",
       "    </tr>\n",
       "    <tr>\n",
       "      <th>31</th>\n",
       "      <td>5138.0</td>\n",
       "      <td>9383.616211</td>\n",
       "      <td>82.631690</td>\n",
       "    </tr>\n",
       "    <tr>\n",
       "      <th>32</th>\n",
       "      <td>5107.0</td>\n",
       "      <td>6994.075684</td>\n",
       "      <td>36.950767</td>\n",
       "    </tr>\n",
       "    <tr>\n",
       "      <th>33</th>\n",
       "      <td>5259.0</td>\n",
       "      <td>5267.286133</td>\n",
       "      <td>0.157561</td>\n",
       "    </tr>\n",
       "    <tr>\n",
       "      <th>34</th>\n",
       "      <td>5686.0</td>\n",
       "      <td>8874.467773</td>\n",
       "      <td>56.075761</td>\n",
       "    </tr>\n",
       "    <tr>\n",
       "      <th>35</th>\n",
       "      <td>5035.0</td>\n",
       "      <td>7449.390625</td>\n",
       "      <td>47.952147</td>\n",
       "    </tr>\n",
       "    <tr>\n",
       "      <th>36</th>\n",
       "      <td>5315.0</td>\n",
       "      <td>8146.612305</td>\n",
       "      <td>53.275867</td>\n",
       "    </tr>\n",
       "    <tr>\n",
       "      <th>37</th>\n",
       "      <td>5992.0</td>\n",
       "      <td>9603.072266</td>\n",
       "      <td>60.264891</td>\n",
       "    </tr>\n",
       "    <tr>\n",
       "      <th>38</th>\n",
       "      <td>6536.0</td>\n",
       "      <td>9989.693359</td>\n",
       "      <td>52.841086</td>\n",
       "    </tr>\n",
       "    <tr>\n",
       "      <th>39</th>\n",
       "      <td>6852.0</td>\n",
       "      <td>8133.882324</td>\n",
       "      <td>18.708148</td>\n",
       "    </tr>\n",
       "  </tbody>\n",
       "</table>\n",
       "</div>"
      ],
      "text/plain": [
       "    Actual    Prediction        Diff\n",
       "0   7572.0   6310.297852  -16.662733\n",
       "1   7328.0   6990.115234   -4.610873\n",
       "2   8156.0   9566.208008   17.290437\n",
       "3   7965.0   7872.886719   -1.156476\n",
       "4   3510.0   7060.623047  101.157352\n",
       "5   5478.0   4987.320312   -8.957278\n",
       "6   6392.0   4346.066895  -32.007714\n",
       "7   7691.0   7473.877441   -2.823073\n",
       "8   7570.0   4904.395020  -35.212747\n",
       "9   7282.0   9343.055664   28.303429\n",
       "10  7109.0   7488.616699    5.339945\n",
       "11  6639.0   6544.663086   -1.420951\n",
       "12  5875.0   4455.323242  -24.164711\n",
       "13  7534.0   8642.204102   14.709372\n",
       "14  7461.0   6378.115723  -14.513929\n",
       "15  7509.0   7290.207031   -2.913743\n",
       "16  5424.0   9306.385742   71.577908\n",
       "17  8090.0   7431.324707   -8.141845\n",
       "18  6824.0   6365.552734   -6.718160\n",
       "19  7058.0   3664.170166  -48.084866\n",
       "20  7466.0   8077.333008    8.188227\n",
       "21  7693.0   5566.322754  -27.644316\n",
       "22  7359.0   6059.608887  -17.657170\n",
       "23  7444.0   9203.250000   23.633127\n",
       "24  7852.0   6624.619141  -15.631442\n",
       "25  4459.0   6309.093262   41.491215\n",
       "26  6414.0   5187.775879  -19.117931\n",
       "27  6414.0  10340.264648   61.213980\n",
       "28  5566.0   7928.786133   42.450344\n",
       "29  5986.0   8525.119141   42.417627\n",
       "30  5847.0   9272.021484   58.577416\n",
       "31  5138.0   9383.616211   82.631690\n",
       "32  5107.0   6994.075684   36.950767\n",
       "33  5259.0   5267.286133    0.157561\n",
       "34  5686.0   8874.467773   56.075761\n",
       "35  5035.0   7449.390625   47.952147\n",
       "36  5315.0   8146.612305   53.275867\n",
       "37  5992.0   9603.072266   60.264891\n",
       "38  6536.0   9989.693359   52.841086\n",
       "39  6852.0   8133.882324   18.708148"
      ]
     },
     "execution_count": 39,
     "metadata": {},
     "output_type": "execute_result"
    }
   ],
   "source": [
    "df_result"
   ]
  },
  {
   "cell_type": "code",
   "execution_count": 40,
   "id": "c12a7a6c",
   "metadata": {},
   "outputs": [
    {
     "name": "stdout",
     "output_type": "stream",
     "text": [
      "mean:  6547.175\n",
      "mae: 1802.6353698730468\n",
      "mae/mean ratio:  27.533025615980126 %\n",
      "correctness:  72.46697438401988 %\n"
     ]
    }
   ],
   "source": [
    "mean = df_result['Actual'].mean()\n",
    "mae = (df_result['Actual'] - df_result['Prediction']).abs().mean()\n",
    "\n",
    "print(\"mean: \", mean)\n",
    "print(\"mae:\", mae)\n",
    "print(\"mae/mean ratio: \", 100*mae/mean,\"%\")\n",
    "print(\"correctness: \", 100 - 100*mae/mean,\"%\")"
   ]
  },
  {
   "cell_type": "code",
   "execution_count": 41,
   "id": "c66c60ff",
   "metadata": {},
   "outputs": [
    {
     "data": {
      "image/png": "[encoded data removed]",
      "text/plain": [
       "<Figure size 1500x1000 with 1 Axes>"
      ]
     },
     "metadata": {},
     "output_type": "display_data"
    }
   ],
   "source": [
    "plt.figure(figsize=(15,10))\n",
    "plt.plot(df_result['Actual'], color='blue')\n",
    "plt.plot(df_result['Prediction'], color='red')\n",
    "plt.show()"
   ]
  },
  {
   "cell_type": "code",
   "execution_count": 42,
   "id": "5133ece8",
   "metadata": {},
   "outputs": [
    {
     "name": "stdout",
     "output_type": "stream",
     "text": [
      "1/1 - 0s - 24ms/epoch - 24ms/step\n",
      "1/1 - 0s - 23ms/epoch - 23ms/step\n",
      "1/1 - 0s - 20ms/epoch - 20ms/step\n",
      "1/1 - 0s - 20ms/epoch - 20ms/step\n"
     ]
    },
    {
     "name": "stderr",
     "output_type": "stream",
     "text": [
      "C:\\Users\\User\\AppData\\Local\\Temp\\ipykernel_11908\\3277216725.py:7: FutureWarning: The frame.append method is deprecated and will be removed from pandas in a future version. Use pandas.concat instead.\n",
      "  df_result = df_result.append({'Actual': scaler.inverse_transform(y)[0][0], 'Prediction': scaler.inverse_transform(yhat)[0][0]}, ignore_index=True)\n",
      "C:\\Users\\User\\AppData\\Local\\Temp\\ipykernel_11908\\3277216725.py:7: FutureWarning: The frame.append method is deprecated and will be removed from pandas in a future version. Use pandas.concat instead.\n",
      "  df_result = df_result.append({'Actual': scaler.inverse_transform(y)[0][0], 'Prediction': scaler.inverse_transform(yhat)[0][0]}, ignore_index=True)\n",
      "C:\\Users\\User\\AppData\\Local\\Temp\\ipykernel_11908\\3277216725.py:7: FutureWarning: The frame.append method is deprecated and will be removed from pandas in a future version. Use pandas.concat instead.\n",
      "  df_result = df_result.append({'Actual': scaler.inverse_transform(y)[0][0], 'Prediction': scaler.inverse_transform(yhat)[0][0]}, ignore_index=True)\n",
      "C:\\Users\\User\\AppData\\Local\\Temp\\ipykernel_11908\\3277216725.py:7: FutureWarning: The frame.append method is deprecated and will be removed from pandas in a future version. Use pandas.concat instead.\n",
      "  df_result = df_result.append({'Actual': scaler.inverse_transform(y)[0][0], 'Prediction': scaler.inverse_transform(yhat)[0][0]}, ignore_index=True)\n"
     ]
    },
    {
     "name": "stdout",
     "output_type": "stream",
     "text": [
      "1/1 - 0s - 22ms/epoch - 22ms/step\n",
      "1/1 - 0s - 20ms/epoch - 20ms/step\n",
      "1/1 - 0s - 20ms/epoch - 20ms/step\n",
      "1/1 - 0s - 20ms/epoch - 20ms/step\n"
     ]
    },
    {
     "name": "stderr",
     "output_type": "stream",
     "text": [
      "C:\\Users\\User\\AppData\\Local\\Temp\\ipykernel_11908\\3277216725.py:7: FutureWarning: The frame.append method is deprecated and will be removed from pandas in a future version. Use pandas.concat instead.\n",
      "  df_result = df_result.append({'Actual': scaler.inverse_transform(y)[0][0], 'Prediction': scaler.inverse_transform(yhat)[0][0]}, ignore_index=True)\n",
      "C:\\Users\\User\\AppData\\Local\\Temp\\ipykernel_11908\\3277216725.py:7: FutureWarning: The frame.append method is deprecated and will be removed from pandas in a future version. Use pandas.concat instead.\n",
      "  df_result = df_result.append({'Actual': scaler.inverse_transform(y)[0][0], 'Prediction': scaler.inverse_transform(yhat)[0][0]}, ignore_index=True)\n",
      "C:\\Users\\User\\AppData\\Local\\Temp\\ipykernel_11908\\3277216725.py:7: FutureWarning: The frame.append method is deprecated and will be removed from pandas in a future version. Use pandas.concat instead.\n",
      "  df_result = df_result.append({'Actual': scaler.inverse_transform(y)[0][0], 'Prediction': scaler.inverse_transform(yhat)[0][0]}, ignore_index=True)\n",
      "C:\\Users\\User\\AppData\\Local\\Temp\\ipykernel_11908\\3277216725.py:7: FutureWarning: The frame.append method is deprecated and will be removed from pandas in a future version. Use pandas.concat instead.\n",
      "  df_result = df_result.append({'Actual': scaler.inverse_transform(y)[0][0], 'Prediction': scaler.inverse_transform(yhat)[0][0]}, ignore_index=True)\n"
     ]
    },
    {
     "name": "stdout",
     "output_type": "stream",
     "text": [
      "1/1 - 0s - 23ms/epoch - 23ms/step\n",
      "1/1 - 0s - 22ms/epoch - 22ms/step\n",
      "1/1 - 0s - 23ms/epoch - 23ms/step\n",
      "1/1 - 0s - 25ms/epoch - 25ms/step\n"
     ]
    },
    {
     "name": "stderr",
     "output_type": "stream",
     "text": [
      "C:\\Users\\User\\AppData\\Local\\Temp\\ipykernel_11908\\3277216725.py:7: FutureWarning: The frame.append method is deprecated and will be removed from pandas in a future version. Use pandas.concat instead.\n",
      "  df_result = df_result.append({'Actual': scaler.inverse_transform(y)[0][0], 'Prediction': scaler.inverse_transform(yhat)[0][0]}, ignore_index=True)\n",
      "C:\\Users\\User\\AppData\\Local\\Temp\\ipykernel_11908\\3277216725.py:7: FutureWarning: The frame.append method is deprecated and will be removed from pandas in a future version. Use pandas.concat instead.\n",
      "  df_result = df_result.append({'Actual': scaler.inverse_transform(y)[0][0], 'Prediction': scaler.inverse_transform(yhat)[0][0]}, ignore_index=True)\n",
      "C:\\Users\\User\\AppData\\Local\\Temp\\ipykernel_11908\\3277216725.py:7: FutureWarning: The frame.append method is deprecated and will be removed from pandas in a future version. Use pandas.concat instead.\n",
      "  df_result = df_result.append({'Actual': scaler.inverse_transform(y)[0][0], 'Prediction': scaler.inverse_transform(yhat)[0][0]}, ignore_index=True)\n"
     ]
    },
    {
     "name": "stdout",
     "output_type": "stream",
     "text": [
      "1/1 - 0s - 27ms/epoch - 27ms/step\n",
      "1/1 - 0s - 22ms/epoch - 22ms/step\n",
      "1/1 - 0s - 20ms/epoch - 20ms/step\n"
     ]
    },
    {
     "name": "stderr",
     "output_type": "stream",
     "text": [
      "C:\\Users\\User\\AppData\\Local\\Temp\\ipykernel_11908\\3277216725.py:7: FutureWarning: The frame.append method is deprecated and will be removed from pandas in a future version. Use pandas.concat instead.\n",
      "  df_result = df_result.append({'Actual': scaler.inverse_transform(y)[0][0], 'Prediction': scaler.inverse_transform(yhat)[0][0]}, ignore_index=True)\n",
      "C:\\Users\\User\\AppData\\Local\\Temp\\ipykernel_11908\\3277216725.py:7: FutureWarning: The frame.append method is deprecated and will be removed from pandas in a future version. Use pandas.concat instead.\n",
      "  df_result = df_result.append({'Actual': scaler.inverse_transform(y)[0][0], 'Prediction': scaler.inverse_transform(yhat)[0][0]}, ignore_index=True)\n",
      "C:\\Users\\User\\AppData\\Local\\Temp\\ipykernel_11908\\3277216725.py:7: FutureWarning: The frame.append method is deprecated and will be removed from pandas in a future version. Use pandas.concat instead.\n",
      "  df_result = df_result.append({'Actual': scaler.inverse_transform(y)[0][0], 'Prediction': scaler.inverse_transform(yhat)[0][0]}, ignore_index=True)\n",
      "C:\\Users\\User\\AppData\\Local\\Temp\\ipykernel_11908\\3277216725.py:7: FutureWarning: The frame.append method is deprecated and will be removed from pandas in a future version. Use pandas.concat instead.\n",
      "  df_result = df_result.append({'Actual': scaler.inverse_transform(y)[0][0], 'Prediction': scaler.inverse_transform(yhat)[0][0]}, ignore_index=True)\n"
     ]
    },
    {
     "name": "stdout",
     "output_type": "stream",
     "text": [
      "1/1 - 0s - 21ms/epoch - 21ms/step\n",
      "1/1 - 0s - 21ms/epoch - 21ms/step\n",
      "1/1 - 0s - 21ms/epoch - 21ms/step\n",
      "1/1 - 0s - 22ms/epoch - 22ms/step\n"
     ]
    },
    {
     "name": "stderr",
     "output_type": "stream",
     "text": [
      "C:\\Users\\User\\AppData\\Local\\Temp\\ipykernel_11908\\3277216725.py:7: FutureWarning: The frame.append method is deprecated and will be removed from pandas in a future version. Use pandas.concat instead.\n",
      "  df_result = df_result.append({'Actual': scaler.inverse_transform(y)[0][0], 'Prediction': scaler.inverse_transform(yhat)[0][0]}, ignore_index=True)\n",
      "C:\\Users\\User\\AppData\\Local\\Temp\\ipykernel_11908\\3277216725.py:7: FutureWarning: The frame.append method is deprecated and will be removed from pandas in a future version. Use pandas.concat instead.\n",
      "  df_result = df_result.append({'Actual': scaler.inverse_transform(y)[0][0], 'Prediction': scaler.inverse_transform(yhat)[0][0]}, ignore_index=True)\n",
      "C:\\Users\\User\\AppData\\Local\\Temp\\ipykernel_11908\\3277216725.py:7: FutureWarning: The frame.append method is deprecated and will be removed from pandas in a future version. Use pandas.concat instead.\n",
      "  df_result = df_result.append({'Actual': scaler.inverse_transform(y)[0][0], 'Prediction': scaler.inverse_transform(yhat)[0][0]}, ignore_index=True)\n",
      "C:\\Users\\User\\AppData\\Local\\Temp\\ipykernel_11908\\3277216725.py:7: FutureWarning: The frame.append method is deprecated and will be removed from pandas in a future version. Use pandas.concat instead.\n",
      "  df_result = df_result.append({'Actual': scaler.inverse_transform(y)[0][0], 'Prediction': scaler.inverse_transform(yhat)[0][0]}, ignore_index=True)\n"
     ]
    },
    {
     "name": "stdout",
     "output_type": "stream",
     "text": [
      "1/1 - 0s - 35ms/epoch - 35ms/step\n",
      "1/1 - 0s - 23ms/epoch - 23ms/step\n",
      "1/1 - 0s - 21ms/epoch - 21ms/step\n",
      "1/1 - 0s - 22ms/epoch - 22ms/step\n"
     ]
    },
    {
     "name": "stderr",
     "output_type": "stream",
     "text": [
      "C:\\Users\\User\\AppData\\Local\\Temp\\ipykernel_11908\\3277216725.py:7: FutureWarning: The frame.append method is deprecated and will be removed from pandas in a future version. Use pandas.concat instead.\n",
      "  df_result = df_result.append({'Actual': scaler.inverse_transform(y)[0][0], 'Prediction': scaler.inverse_transform(yhat)[0][0]}, ignore_index=True)\n",
      "C:\\Users\\User\\AppData\\Local\\Temp\\ipykernel_11908\\3277216725.py:7: FutureWarning: The frame.append method is deprecated and will be removed from pandas in a future version. Use pandas.concat instead.\n",
      "  df_result = df_result.append({'Actual': scaler.inverse_transform(y)[0][0], 'Prediction': scaler.inverse_transform(yhat)[0][0]}, ignore_index=True)\n",
      "C:\\Users\\User\\AppData\\Local\\Temp\\ipykernel_11908\\3277216725.py:7: FutureWarning: The frame.append method is deprecated and will be removed from pandas in a future version. Use pandas.concat instead.\n",
      "  df_result = df_result.append({'Actual': scaler.inverse_transform(y)[0][0], 'Prediction': scaler.inverse_transform(yhat)[0][0]}, ignore_index=True)\n",
      "C:\\Users\\User\\AppData\\Local\\Temp\\ipykernel_11908\\3277216725.py:7: FutureWarning: The frame.append method is deprecated and will be removed from pandas in a future version. Use pandas.concat instead.\n",
      "  df_result = df_result.append({'Actual': scaler.inverse_transform(y)[0][0], 'Prediction': scaler.inverse_transform(yhat)[0][0]}, ignore_index=True)\n"
     ]
    },
    {
     "name": "stdout",
     "output_type": "stream",
     "text": [
      "1/1 - 0s - 18ms/epoch - 18ms/step\n",
      "1/1 - 0s - 20ms/epoch - 20ms/step\n",
      "1/1 - 0s - 23ms/epoch - 23ms/step\n",
      "1/1 - 0s - 26ms/epoch - 26ms/step\n"
     ]
    },
    {
     "name": "stderr",
     "output_type": "stream",
     "text": [
      "C:\\Users\\User\\AppData\\Local\\Temp\\ipykernel_11908\\3277216725.py:7: FutureWarning: The frame.append method is deprecated and will be removed from pandas in a future version. Use pandas.concat instead.\n",
      "  df_result = df_result.append({'Actual': scaler.inverse_transform(y)[0][0], 'Prediction': scaler.inverse_transform(yhat)[0][0]}, ignore_index=True)\n",
      "C:\\Users\\User\\AppData\\Local\\Temp\\ipykernel_11908\\3277216725.py:7: FutureWarning: The frame.append method is deprecated and will be removed from pandas in a future version. Use pandas.concat instead.\n",
      "  df_result = df_result.append({'Actual': scaler.inverse_transform(y)[0][0], 'Prediction': scaler.inverse_transform(yhat)[0][0]}, ignore_index=True)\n",
      "C:\\Users\\User\\AppData\\Local\\Temp\\ipykernel_11908\\3277216725.py:7: FutureWarning: The frame.append method is deprecated and will be removed from pandas in a future version. Use pandas.concat instead.\n",
      "  df_result = df_result.append({'Actual': scaler.inverse_transform(y)[0][0], 'Prediction': scaler.inverse_transform(yhat)[0][0]}, ignore_index=True)\n"
     ]
    },
    {
     "name": "stdout",
     "output_type": "stream",
     "text": [
      "1/1 - 0s - 24ms/epoch - 24ms/step\n",
      "1/1 - 0s - 22ms/epoch - 22ms/step\n",
      "1/1 - 0s - 20ms/epoch - 20ms/step\n"
     ]
    },
    {
     "name": "stderr",
     "output_type": "stream",
     "text": [
      "C:\\Users\\User\\AppData\\Local\\Temp\\ipykernel_11908\\3277216725.py:7: FutureWarning: The frame.append method is deprecated and will be removed from pandas in a future version. Use pandas.concat instead.\n",
      "  df_result = df_result.append({'Actual': scaler.inverse_transform(y)[0][0], 'Prediction': scaler.inverse_transform(yhat)[0][0]}, ignore_index=True)\n",
      "C:\\Users\\User\\AppData\\Local\\Temp\\ipykernel_11908\\3277216725.py:7: FutureWarning: The frame.append method is deprecated and will be removed from pandas in a future version. Use pandas.concat instead.\n",
      "  df_result = df_result.append({'Actual': scaler.inverse_transform(y)[0][0], 'Prediction': scaler.inverse_transform(yhat)[0][0]}, ignore_index=True)\n",
      "C:\\Users\\User\\AppData\\Local\\Temp\\ipykernel_11908\\3277216725.py:7: FutureWarning: The frame.append method is deprecated and will be removed from pandas in a future version. Use pandas.concat instead.\n",
      "  df_result = df_result.append({'Actual': scaler.inverse_transform(y)[0][0], 'Prediction': scaler.inverse_transform(yhat)[0][0]}, ignore_index=True)\n"
     ]
    },
    {
     "name": "stdout",
     "output_type": "stream",
     "text": [
      "1/1 - 0s - 20ms/epoch - 20ms/step\n",
      "1/1 - 0s - 20ms/epoch - 20ms/step\n",
      "1/1 - 0s - 19ms/epoch - 19ms/step\n"
     ]
    },
    {
     "name": "stderr",
     "output_type": "stream",
     "text": [
      "C:\\Users\\User\\AppData\\Local\\Temp\\ipykernel_11908\\3277216725.py:7: FutureWarning: The frame.append method is deprecated and will be removed from pandas in a future version. Use pandas.concat instead.\n",
      "  df_result = df_result.append({'Actual': scaler.inverse_transform(y)[0][0], 'Prediction': scaler.inverse_transform(yhat)[0][0]}, ignore_index=True)\n",
      "C:\\Users\\User\\AppData\\Local\\Temp\\ipykernel_11908\\3277216725.py:7: FutureWarning: The frame.append method is deprecated and will be removed from pandas in a future version. Use pandas.concat instead.\n",
      "  df_result = df_result.append({'Actual': scaler.inverse_transform(y)[0][0], 'Prediction': scaler.inverse_transform(yhat)[0][0]}, ignore_index=True)\n",
      "C:\\Users\\User\\AppData\\Local\\Temp\\ipykernel_11908\\3277216725.py:7: FutureWarning: The frame.append method is deprecated and will be removed from pandas in a future version. Use pandas.concat instead.\n",
      "  df_result = df_result.append({'Actual': scaler.inverse_transform(y)[0][0], 'Prediction': scaler.inverse_transform(yhat)[0][0]}, ignore_index=True)\n",
      "C:\\Users\\User\\AppData\\Local\\Temp\\ipykernel_11908\\3277216725.py:7: FutureWarning: The frame.append method is deprecated and will be removed from pandas in a future version. Use pandas.concat instead.\n",
      "  df_result = df_result.append({'Actual': scaler.inverse_transform(y)[0][0], 'Prediction': scaler.inverse_transform(yhat)[0][0]}, ignore_index=True)\n"
     ]
    },
    {
     "name": "stdout",
     "output_type": "stream",
     "text": [
      "1/1 - 0s - 22ms/epoch - 22ms/step\n",
      "1/1 - 0s - 18ms/epoch - 18ms/step\n",
      "1/1 - 0s - 19ms/epoch - 19ms/step\n",
      "1/1 - 0s - 20ms/epoch - 20ms/step\n"
     ]
    },
    {
     "name": "stderr",
     "output_type": "stream",
     "text": [
      "C:\\Users\\User\\AppData\\Local\\Temp\\ipykernel_11908\\3277216725.py:7: FutureWarning: The frame.append method is deprecated and will be removed from pandas in a future version. Use pandas.concat instead.\n",
      "  df_result = df_result.append({'Actual': scaler.inverse_transform(y)[0][0], 'Prediction': scaler.inverse_transform(yhat)[0][0]}, ignore_index=True)\n",
      "C:\\Users\\User\\AppData\\Local\\Temp\\ipykernel_11908\\3277216725.py:7: FutureWarning: The frame.append method is deprecated and will be removed from pandas in a future version. Use pandas.concat instead.\n",
      "  df_result = df_result.append({'Actual': scaler.inverse_transform(y)[0][0], 'Prediction': scaler.inverse_transform(yhat)[0][0]}, ignore_index=True)\n",
      "C:\\Users\\User\\AppData\\Local\\Temp\\ipykernel_11908\\3277216725.py:7: FutureWarning: The frame.append method is deprecated and will be removed from pandas in a future version. Use pandas.concat instead.\n",
      "  df_result = df_result.append({'Actual': scaler.inverse_transform(y)[0][0], 'Prediction': scaler.inverse_transform(yhat)[0][0]}, ignore_index=True)\n",
      "C:\\Users\\User\\AppData\\Local\\Temp\\ipykernel_11908\\3277216725.py:7: FutureWarning: The frame.append method is deprecated and will be removed from pandas in a future version. Use pandas.concat instead.\n",
      "  df_result = df_result.append({'Actual': scaler.inverse_transform(y)[0][0], 'Prediction': scaler.inverse_transform(yhat)[0][0]}, ignore_index=True)\n"
     ]
    },
    {
     "name": "stdout",
     "output_type": "stream",
     "text": [
      "1/1 - 0s - 22ms/epoch - 22ms/step\n",
      "1/1 - 0s - 20ms/epoch - 20ms/step\n",
      "1/1 - 0s - 20ms/epoch - 20ms/step\n"
     ]
    },
    {
     "name": "stderr",
     "output_type": "stream",
     "text": [
      "C:\\Users\\User\\AppData\\Local\\Temp\\ipykernel_11908\\3277216725.py:7: FutureWarning: The frame.append method is deprecated and will be removed from pandas in a future version. Use pandas.concat instead.\n",
      "  df_result = df_result.append({'Actual': scaler.inverse_transform(y)[0][0], 'Prediction': scaler.inverse_transform(yhat)[0][0]}, ignore_index=True)\n",
      "C:\\Users\\User\\AppData\\Local\\Temp\\ipykernel_11908\\3277216725.py:7: FutureWarning: The frame.append method is deprecated and will be removed from pandas in a future version. Use pandas.concat instead.\n",
      "  df_result = df_result.append({'Actual': scaler.inverse_transform(y)[0][0], 'Prediction': scaler.inverse_transform(yhat)[0][0]}, ignore_index=True)\n",
      "C:\\Users\\User\\AppData\\Local\\Temp\\ipykernel_11908\\3277216725.py:7: FutureWarning: The frame.append method is deprecated and will be removed from pandas in a future version. Use pandas.concat instead.\n",
      "  df_result = df_result.append({'Actual': scaler.inverse_transform(y)[0][0], 'Prediction': scaler.inverse_transform(yhat)[0][0]}, ignore_index=True)\n"
     ]
    }
   ],
   "source": [
    "df_result = pd.DataFrame({'Actual' : [], 'Prediction' : []})\n",
    "\n",
    "for i in range(len(generator_hold)):\n",
    "    x, y = generator_hold[i]\n",
    "    x_input = array(x).reshape((1, n_input, n_features))\n",
    "    yhat = model.predict(x_input, verbose=2)\n",
    "    df_result = df_result.append({'Actual': scaler.inverse_transform(y)[0][0], 'Prediction': scaler.inverse_transform(yhat)[0][0]}, ignore_index=True)"
   ]
  },
  {
   "cell_type": "code",
   "execution_count": 43,
   "id": "eea8f29b",
   "metadata": {},
   "outputs": [],
   "source": [
    "df_result['Diff'] = 100 * (df_result['Prediction'] - df_result['Actual']) / df_result['Actual']"
   ]
  },
  {
   "cell_type": "code",
   "execution_count": 44,
   "id": "e3d57993",
   "metadata": {},
   "outputs": [
    {
     "data": {
      "text/html": [
       "<div>\n",
       "<style scoped>\n",
       "    .dataframe tbody tr th:only-of-type {\n",
       "        vertical-align: middle;\n",
       "    }\n",
       "\n",
       "    .dataframe tbody tr th {\n",
       "        vertical-align: top;\n",
       "    }\n",
       "\n",
       "    .dataframe thead th {\n",
       "        text-align: right;\n",
       "    }\n",
       "</style>\n",
       "<table border=\"1\" class=\"dataframe\">\n",
       "  <thead>\n",
       "    <tr style=\"text-align: right;\">\n",
       "      <th></th>\n",
       "      <th>Actual</th>\n",
       "      <th>Prediction</th>\n",
       "      <th>Diff</th>\n",
       "    </tr>\n",
       "  </thead>\n",
       "  <tbody>\n",
       "    <tr>\n",
       "      <th>0</th>\n",
       "      <td>2425.0</td>\n",
       "      <td>8512.075195</td>\n",
       "      <td>251.013410</td>\n",
       "    </tr>\n",
       "    <tr>\n",
       "      <th>1</th>\n",
       "      <td>3910.0</td>\n",
       "      <td>6720.209473</td>\n",
       "      <td>71.872365</td>\n",
       "    </tr>\n",
       "    <tr>\n",
       "      <th>2</th>\n",
       "      <td>2277.0</td>\n",
       "      <td>7705.192383</td>\n",
       "      <td>238.392287</td>\n",
       "    </tr>\n",
       "    <tr>\n",
       "      <th>3</th>\n",
       "      <td>2424.0</td>\n",
       "      <td>7943.967285</td>\n",
       "      <td>227.721423</td>\n",
       "    </tr>\n",
       "    <tr>\n",
       "      <th>4</th>\n",
       "      <td>5087.0</td>\n",
       "      <td>6031.570801</td>\n",
       "      <td>18.568327</td>\n",
       "    </tr>\n",
       "    <tr>\n",
       "      <th>5</th>\n",
       "      <td>3959.0</td>\n",
       "      <td>8913.702148</td>\n",
       "      <td>125.150345</td>\n",
       "    </tr>\n",
       "    <tr>\n",
       "      <th>6</th>\n",
       "      <td>5260.0</td>\n",
       "      <td>7935.685059</td>\n",
       "      <td>50.868537</td>\n",
       "    </tr>\n",
       "    <tr>\n",
       "      <th>7</th>\n",
       "      <td>5323.0</td>\n",
       "      <td>8438.974609</td>\n",
       "      <td>58.537941</td>\n",
       "    </tr>\n",
       "    <tr>\n",
       "      <th>8</th>\n",
       "      <td>5668.0</td>\n",
       "      <td>10312.355469</td>\n",
       "      <td>81.939934</td>\n",
       "    </tr>\n",
       "    <tr>\n",
       "      <th>9</th>\n",
       "      <td>5191.0</td>\n",
       "      <td>9117.130859</td>\n",
       "      <td>75.633421</td>\n",
       "    </tr>\n",
       "    <tr>\n",
       "      <th>10</th>\n",
       "      <td>4649.0</td>\n",
       "      <td>7425.759766</td>\n",
       "      <td>59.728109</td>\n",
       "    </tr>\n",
       "    <tr>\n",
       "      <th>11</th>\n",
       "      <td>6234.0</td>\n",
       "      <td>6024.913086</td>\n",
       "      <td>-3.353977</td>\n",
       "    </tr>\n",
       "    <tr>\n",
       "      <th>12</th>\n",
       "      <td>6606.0</td>\n",
       "      <td>9287.386719</td>\n",
       "      <td>40.590171</td>\n",
       "    </tr>\n",
       "    <tr>\n",
       "      <th>13</th>\n",
       "      <td>5729.0</td>\n",
       "      <td>7849.512695</td>\n",
       "      <td>37.013662</td>\n",
       "    </tr>\n",
       "    <tr>\n",
       "      <th>14</th>\n",
       "      <td>5375.0</td>\n",
       "      <td>7870.563965</td>\n",
       "      <td>46.429097</td>\n",
       "    </tr>\n",
       "    <tr>\n",
       "      <th>15</th>\n",
       "      <td>5008.0</td>\n",
       "      <td>10127.592773</td>\n",
       "      <td>102.228290</td>\n",
       "    </tr>\n",
       "    <tr>\n",
       "      <th>16</th>\n",
       "      <td>5582.0</td>\n",
       "      <td>8670.230469</td>\n",
       "      <td>55.324802</td>\n",
       "    </tr>\n",
       "    <tr>\n",
       "      <th>17</th>\n",
       "      <td>3228.0</td>\n",
       "      <td>7724.585449</td>\n",
       "      <td>139.299425</td>\n",
       "    </tr>\n",
       "    <tr>\n",
       "      <th>18</th>\n",
       "      <td>5170.0</td>\n",
       "      <td>6622.858887</td>\n",
       "      <td>28.101719</td>\n",
       "    </tr>\n",
       "    <tr>\n",
       "      <th>19</th>\n",
       "      <td>5501.0</td>\n",
       "      <td>9809.236328</td>\n",
       "      <td>78.317330</td>\n",
       "    </tr>\n",
       "    <tr>\n",
       "      <th>20</th>\n",
       "      <td>5319.0</td>\n",
       "      <td>8795.014648</td>\n",
       "      <td>65.350905</td>\n",
       "    </tr>\n",
       "    <tr>\n",
       "      <th>21</th>\n",
       "      <td>5532.0</td>\n",
       "      <td>8636.873047</td>\n",
       "      <td>56.125688</td>\n",
       "    </tr>\n",
       "    <tr>\n",
       "      <th>22</th>\n",
       "      <td>5611.0</td>\n",
       "      <td>10085.086914</td>\n",
       "      <td>79.737781</td>\n",
       "    </tr>\n",
       "    <tr>\n",
       "      <th>23</th>\n",
       "      <td>5047.0</td>\n",
       "      <td>10332.560547</td>\n",
       "      <td>104.726779</td>\n",
       "    </tr>\n",
       "    <tr>\n",
       "      <th>24</th>\n",
       "      <td>3786.0</td>\n",
       "      <td>8521.807617</td>\n",
       "      <td>125.087364</td>\n",
       "    </tr>\n",
       "    <tr>\n",
       "      <th>25</th>\n",
       "      <td>4585.0</td>\n",
       "      <td>6667.254883</td>\n",
       "      <td>45.414501</td>\n",
       "    </tr>\n",
       "    <tr>\n",
       "      <th>26</th>\n",
       "      <td>5557.0</td>\n",
       "      <td>9674.590820</td>\n",
       "      <td>74.097369</td>\n",
       "    </tr>\n",
       "    <tr>\n",
       "      <th>27</th>\n",
       "      <td>5267.0</td>\n",
       "      <td>9483.236328</td>\n",
       "      <td>80.050054</td>\n",
       "    </tr>\n",
       "    <tr>\n",
       "      <th>28</th>\n",
       "      <td>4128.0</td>\n",
       "      <td>9043.376953</td>\n",
       "      <td>119.074054</td>\n",
       "    </tr>\n",
       "    <tr>\n",
       "      <th>29</th>\n",
       "      <td>3623.0</td>\n",
       "      <td>9544.210938</td>\n",
       "      <td>163.433920</td>\n",
       "    </tr>\n",
       "    <tr>\n",
       "      <th>30</th>\n",
       "      <td>1749.0</td>\n",
       "      <td>9138.868164</td>\n",
       "      <td>422.519621</td>\n",
       "    </tr>\n",
       "    <tr>\n",
       "      <th>31</th>\n",
       "      <td>1787.0</td>\n",
       "      <td>8568.396484</td>\n",
       "      <td>379.484974</td>\n",
       "    </tr>\n",
       "    <tr>\n",
       "      <th>32</th>\n",
       "      <td>920.0</td>\n",
       "      <td>6625.708496</td>\n",
       "      <td>620.185706</td>\n",
       "    </tr>\n",
       "    <tr>\n",
       "      <th>33</th>\n",
       "      <td>1013.0</td>\n",
       "      <td>9593.843750</td>\n",
       "      <td>847.072433</td>\n",
       "    </tr>\n",
       "    <tr>\n",
       "      <th>34</th>\n",
       "      <td>441.0</td>\n",
       "      <td>7210.309570</td>\n",
       "      <td>1534.990832</td>\n",
       "    </tr>\n",
       "    <tr>\n",
       "      <th>35</th>\n",
       "      <td>2114.0</td>\n",
       "      <td>9499.636719</td>\n",
       "      <td>349.367867</td>\n",
       "    </tr>\n",
       "    <tr>\n",
       "      <th>36</th>\n",
       "      <td>3095.0</td>\n",
       "      <td>9278.000000</td>\n",
       "      <td>199.773829</td>\n",
       "    </tr>\n",
       "    <tr>\n",
       "      <th>37</th>\n",
       "      <td>1341.0</td>\n",
       "      <td>9504.035156</td>\n",
       "      <td>608.727454</td>\n",
       "    </tr>\n",
       "    <tr>\n",
       "      <th>38</th>\n",
       "      <td>1796.0</td>\n",
       "      <td>8121.121094</td>\n",
       "      <td>352.178235</td>\n",
       "    </tr>\n",
       "    <tr>\n",
       "      <th>39</th>\n",
       "      <td>2729.0</td>\n",
       "      <td>6910.886230</td>\n",
       "      <td>153.238777</td>\n",
       "    </tr>\n",
       "  </tbody>\n",
       "</table>\n",
       "</div>"
      ],
      "text/plain": [
       "    Actual    Prediction         Diff\n",
       "0   2425.0   8512.075195   251.013410\n",
       "1   3910.0   6720.209473    71.872365\n",
       "2   2277.0   7705.192383   238.392287\n",
       "3   2424.0   7943.967285   227.721423\n",
       "4   5087.0   6031.570801    18.568327\n",
       "5   3959.0   8913.702148   125.150345\n",
       "6   5260.0   7935.685059    50.868537\n",
       "7   5323.0   8438.974609    58.537941\n",
       "8   5668.0  10312.355469    81.939934\n",
       "9   5191.0   9117.130859    75.633421\n",
       "10  4649.0   7425.759766    59.728109\n",
       "11  6234.0   6024.913086    -3.353977\n",
       "12  6606.0   9287.386719    40.590171\n",
       "13  5729.0   7849.512695    37.013662\n",
       "14  5375.0   7870.563965    46.429097\n",
       "15  5008.0  10127.592773   102.228290\n",
       "16  5582.0   8670.230469    55.324802\n",
       "17  3228.0   7724.585449   139.299425\n",
       "18  5170.0   6622.858887    28.101719\n",
       "19  5501.0   9809.236328    78.317330\n",
       "20  5319.0   8795.014648    65.350905\n",
       "21  5532.0   8636.873047    56.125688\n",
       "22  5611.0  10085.086914    79.737781\n",
       "23  5047.0  10332.560547   104.726779\n",
       "24  3786.0   8521.807617   125.087364\n",
       "25  4585.0   6667.254883    45.414501\n",
       "26  5557.0   9674.590820    74.097369\n",
       "27  5267.0   9483.236328    80.050054\n",
       "28  4128.0   9043.376953   119.074054\n",
       "29  3623.0   9544.210938   163.433920\n",
       "30  1749.0   9138.868164   422.519621\n",
       "31  1787.0   8568.396484   379.484974\n",
       "32   920.0   6625.708496   620.185706\n",
       "33  1013.0   9593.843750   847.072433\n",
       "34   441.0   7210.309570  1534.990832\n",
       "35  2114.0   9499.636719   349.367867\n",
       "36  3095.0   9278.000000   199.773829\n",
       "37  1341.0   9504.035156   608.727454\n",
       "38  1796.0   8121.121094   352.178235\n",
       "39  2729.0   6910.886230   153.238777"
      ]
     },
     "execution_count": 44,
     "metadata": {},
     "output_type": "execute_result"
    }
   ],
   "source": [
    "df_result"
   ]
  },
  {
   "cell_type": "code",
   "execution_count": 45,
   "id": "2deb2ed2",
   "metadata": {
    "scrolled": true
   },
   "outputs": [
    {
     "name": "stdout",
     "output_type": "stream",
     "text": [
      "mean:  4001.15\n",
      "mae: 4466.262390136719\n",
      "mae/mean ratio:  111.62446771894876 %\n",
      "correctness:  -11.624467718948765 %\n"
     ]
    }
   ],
   "source": [
    "mean = df_result['Actual'].mean()\n",
    "mae = (df_result['Actual'] - df_result['Prediction']).abs().mean()\n",
    "\n",
    "print(\"mean: \", mean)\n",
    "print(\"mae:\", mae)\n",
    "print(\"mae/mean ratio: \", 100*mae/mean,\"%\")\n",
    "print(\"correctness: \", 100 - 100*mae/mean,\"%\")"
   ]
  },
  {
   "cell_type": "code",
   "execution_count": 46,
   "id": "4fe9b810",
   "metadata": {},
   "outputs": [
    {
     "data": {
      "image/png": "[encoded data removed]",
      "text/plain": [
       "<Figure size 1500x1000 with 1 Axes>"
      ]
     },
     "metadata": {},
     "output_type": "display_data"
    }
   ],
   "source": []
  },
  {
   "cell_type": "code",
   "execution_count": null,
   "id": "55ebbd53",
   "metadata": {},
   "outputs": [],
   "source": []
  }
 ],
 "metadata": {
  "kernelspec": {
   "display_name": "Python 3 (ipykernel)",
   "language": "python",
   "name": "python3"
  },
  "language_info": {
   "codemirror_mode": {
    "name": "ipython",
    "version": 3
   },
   "file_extension": ".py",
   "mimetype": "text/x-python",
   "name": "python",
   "nbconvert_exporter": "python",
   "pygments_lexer": "ipython3",
   "version": "3.9.12"
  }
 },
 "nbformat": 4,
 "nbformat_minor": 5
}
